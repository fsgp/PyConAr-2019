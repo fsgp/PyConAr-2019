{
 "cells": [
  {
   "cell_type": "markdown",
   "metadata": {
    "slideshow": {
     "slide_type": "slide"
    }
   },
   "source": [
    " ## <u>Pandas para usuarios de Excel</u>\n",
    "\n",
    " ### PyConAr 2019\n",
    "\n",
    " #### Por Fernando Gonzalez Prada\n",
    " @fgonzalezprada"
   ]
  },
  {
   "cell_type": "markdown",
   "metadata": {
    "slideshow": {
     "slide_type": "slide"
    }
   },
   "source": [
    "#### Temario\n",
    "\n",
    "1) Razones por las cuales es una buena idea complementar Excel con Python y Pandas\n",
    "\n",
    "2) Como leemos hojas de Excel en Python y Pandas\n",
    "\n",
    "3) Que es un Dataframe\n",
    "\n",
    "4) Creación de columnas calculadas\n",
    "\n",
    "5) Filtrado de datos\n",
    "\n",
    "6) Agrupación y sumarización de datos\n",
    "\n",
    "7) Uniendo las tablas con 'merge'\n",
    "\n",
    "8) Creación de Pivot Table con Pandas\n",
    "\n",
    "9) Leyendo información con formato irregular"
   ]
  },
  {
   "cell_type": "markdown",
   "metadata": {
    "slideshow": {
     "slide_type": "slide"
    }
   },
   "source": [
    "### 1) Razones por las cuales es una buena idea complementar Excel con Python y Pandas"
   ]
  },
  {
   "cell_type": "markdown",
   "metadata": {
    "slideshow": {
     "slide_type": "fragment"
    }
   },
   "source": [
    "* Excel no funciona correctamente cuando trabajamos con grandes conjuntos de datos.\n",
    "* Las planillas no escalan bien cuando los volúmenes de datos crecen en el tiempo.\n",
    "* Más allá de usar macros, es muy manual el proceso de generar información reproducible."
   ]
  },
  {
   "cell_type": "markdown",
   "metadata": {
    "slideshow": {
     "slide_type": "fragment"
    }
   },
   "source": [
    "* Si la información no está bien estructurada, se hace muy difícil trabajarla con Excel.\n",
    "* No tiene funcionalidades analíticas robustas.\n",
    "* En algunos países hay regulaciones que limitan el uso de planillas de cálculos para determinados informes legales."
   ]
  },
  {
   "cell_type": "markdown",
   "metadata": {
    "slideshow": {
     "slide_type": "fragment"
    }
   },
   "source": [
    "* No están diseñadas para uso colaborativo.\n",
    "* Propensas al fraude por la falta de niveles de permisos y control de código fuente / fórmulas.\n",
    "* Sujetas a errores humanos triviales, difíciles de descubrir.\n",
    "* Es difícil de consolidar la información cuando empiezan a surgir muchas planillas desde diferentes sectores."
   ]
  },
  {
   "cell_type": "markdown",
   "metadata": {
    "slideshow": {
     "slide_type": "slide"
    }
   },
   "source": [
    "### 2) Como leemos hojas de Excel en Python y Pandas\n",
    "#### Pandas es una de las mejores librerías de Python para manipular y analizar datos\n",
    "\n",
    "Anaconda es una de la distribuciones más fáciles de instalar y utilizar\n",
    "\n",
    "https://www.anaconda.com/distribution/"
   ]
  },
  {
   "cell_type": "code",
   "execution_count": 1,
   "metadata": {
    "code_folding": [],
    "slideshow": {
     "slide_type": "fragment"
    }
   },
   "outputs": [],
   "source": [
    "# cargamos las librerías que vamos a utilizar\n",
    "import warnings\n",
    "warnings.filterwarnings('ignore')\n",
    "\n",
    "# importamos pandas con alias 'pd'\n",
    "import pandas as pd"
   ]
  },
  {
   "cell_type": "markdown",
   "metadata": {
    "slideshow": {
     "slide_type": "slide"
    }
   },
   "source": [
    "Importamos el encabezado de las órdenes emitidas y las guardamos en el dataframe **encabezado**"
   ]
  },
  {
   "cell_type": "code",
   "execution_count": 2,
   "metadata": {
    "slideshow": {
     "slide_type": "fragment"
    }
   },
   "outputs": [],
   "source": [
    "encabezado = pd.read_excel('data.xlsx', sheet_name='encabezado')"
   ]
  },
  {
   "cell_type": "markdown",
   "metadata": {
    "slideshow": {
     "slide_type": "fragment"
    }
   },
   "source": [
    "Con **read_excel** podemos leer hojas de Excel. Otra opción sería leerlas de un archivo .csv con **read_csv**, lo cual es mucho más rápido."
   ]
  },
  {
   "cell_type": "code",
   "execution_count": null,
   "metadata": {
    "slideshow": {
     "slide_type": "fragment"
    }
   },
   "outputs": [],
   "source": [
    "encabezado = pd.read_csv('encabezado.csv', sep='\\t')"
   ]
  },
  {
   "cell_type": "markdown",
   "metadata": {
    "slideshow": {
     "slide_type": "slide"
    }
   },
   "source": [
    "### 3) Que es un Dataframe?"
   ]
  },
  {
   "cell_type": "markdown",
   "metadata": {
    "slideshow": {
     "slide_type": "-"
    }
   },
   "source": [
    "Con **head** vemos los primeros registros"
   ]
  },
  {
   "cell_type": "code",
   "execution_count": 3,
   "metadata": {
    "scrolled": true,
    "slideshow": {
     "slide_type": "fragment"
    }
   },
   "outputs": [
    {
     "data": {
      "text/html": [
       "<div>\n",
       "<style scoped>\n",
       "    .dataframe tbody tr th:only-of-type {\n",
       "        vertical-align: middle;\n",
       "    }\n",
       "\n",
       "    .dataframe tbody tr th {\n",
       "        vertical-align: top;\n",
       "    }\n",
       "\n",
       "    .dataframe thead th {\n",
       "        text-align: right;\n",
       "    }\n",
       "</style>\n",
       "<table border=\"1\" class=\"dataframe\">\n",
       "  <thead>\n",
       "    <tr style=\"text-align: right;\">\n",
       "      <th></th>\n",
       "      <th>SalesOrderID</th>\n",
       "      <th>OrderDate</th>\n",
       "      <th>SalesOrderNumber</th>\n",
       "      <th>CustomerID</th>\n",
       "    </tr>\n",
       "  </thead>\n",
       "  <tbody>\n",
       "    <tr>\n",
       "      <th>31455</th>\n",
       "      <td>75114</td>\n",
       "      <td>30/6/2014</td>\n",
       "      <td>SO75114</td>\n",
       "      <td>24704</td>\n",
       "    </tr>\n",
       "    <tr>\n",
       "      <th>31456</th>\n",
       "      <td>75115</td>\n",
       "      <td>30/6/2014</td>\n",
       "      <td>SO75115</td>\n",
       "      <td>26832</td>\n",
       "    </tr>\n",
       "    <tr>\n",
       "      <th>31457</th>\n",
       "      <td>75116</td>\n",
       "      <td>30/6/2014</td>\n",
       "      <td>SO75116</td>\n",
       "      <td>16402</td>\n",
       "    </tr>\n",
       "    <tr>\n",
       "      <th>31458</th>\n",
       "      <td>75117</td>\n",
       "      <td>30/6/2014</td>\n",
       "      <td>SO75117</td>\n",
       "      <td>18178</td>\n",
       "    </tr>\n",
       "    <tr>\n",
       "      <th>31459</th>\n",
       "      <td>75118</td>\n",
       "      <td>30/6/2014</td>\n",
       "      <td>SO75118</td>\n",
       "      <td>13671</td>\n",
       "    </tr>\n",
       "    <tr>\n",
       "      <th>31460</th>\n",
       "      <td>75119</td>\n",
       "      <td>30/6/2014</td>\n",
       "      <td>SO75119</td>\n",
       "      <td>11981</td>\n",
       "    </tr>\n",
       "    <tr>\n",
       "      <th>31461</th>\n",
       "      <td>75120</td>\n",
       "      <td>30/6/2014</td>\n",
       "      <td>SO75120</td>\n",
       "      <td>18749</td>\n",
       "    </tr>\n",
       "    <tr>\n",
       "      <th>31462</th>\n",
       "      <td>75121</td>\n",
       "      <td>30/6/2014</td>\n",
       "      <td>SO75121</td>\n",
       "      <td>15251</td>\n",
       "    </tr>\n",
       "    <tr>\n",
       "      <th>31463</th>\n",
       "      <td>75122</td>\n",
       "      <td>30/6/2014</td>\n",
       "      <td>SO75122</td>\n",
       "      <td>15868</td>\n",
       "    </tr>\n",
       "    <tr>\n",
       "      <th>31464</th>\n",
       "      <td>75123</td>\n",
       "      <td>30/6/2014</td>\n",
       "      <td>SO75123</td>\n",
       "      <td>18759</td>\n",
       "    </tr>\n",
       "  </tbody>\n",
       "</table>\n",
       "</div>"
      ],
      "text/plain": [
       "       SalesOrderID  OrderDate SalesOrderNumber  CustomerID\n",
       "31455         75114  30/6/2014          SO75114       24704\n",
       "31456         75115  30/6/2014          SO75115       26832\n",
       "31457         75116  30/6/2014          SO75116       16402\n",
       "31458         75117  30/6/2014          SO75117       18178\n",
       "31459         75118  30/6/2014          SO75118       13671\n",
       "31460         75119  30/6/2014          SO75119       11981\n",
       "31461         75120  30/6/2014          SO75120       18749\n",
       "31462         75121  30/6/2014          SO75121       15251\n",
       "31463         75122  30/6/2014          SO75122       15868\n",
       "31464         75123  30/6/2014          SO75123       18759"
      ]
     },
     "execution_count": 3,
     "metadata": {},
     "output_type": "execute_result"
    }
   ],
   "source": [
    "encabezado.tail(10)"
   ]
  },
  {
   "cell_type": "markdown",
   "metadata": {
    "slideshow": {
     "slide_type": "slide"
    }
   },
   "source": [
    "**shape** nos indica la cantidad de filas y columnas del dataframe"
   ]
  },
  {
   "cell_type": "code",
   "execution_count": 4,
   "metadata": {
    "slideshow": {
     "slide_type": "fragment"
    }
   },
   "outputs": [
    {
     "data": {
      "text/plain": [
       "(31465, 4)"
      ]
     },
     "execution_count": 4,
     "metadata": {},
     "output_type": "execute_result"
    }
   ],
   "source": [
    "encabezado.shape"
   ]
  },
  {
   "cell_type": "code",
   "execution_count": 5,
   "metadata": {
    "slideshow": {
     "slide_type": "fragment"
    }
   },
   "outputs": [
    {
     "name": "stdout",
     "output_type": "stream",
     "text": [
      "<class 'pandas.core.frame.DataFrame'>\n",
      "RangeIndex: 31465 entries, 0 to 31464\n",
      "Data columns (total 4 columns):\n",
      "SalesOrderID        31465 non-null int64\n",
      "OrderDate           31465 non-null object\n",
      "SalesOrderNumber    31465 non-null object\n",
      "CustomerID          31465 non-null int64\n",
      "dtypes: int64(2), object(2)\n",
      "memory usage: 983.4+ KB\n"
     ]
    }
   ],
   "source": [
    "encabezado.info()"
   ]
  },
  {
   "cell_type": "markdown",
   "metadata": {
    "slideshow": {
     "slide_type": "slide"
    }
   },
   "source": [
    "También podemos importar solo las columnas que nos interesen, usando **usecols** y una lista con las columnas deseadas."
   ]
  },
  {
   "cell_type": "code",
   "execution_count": 6,
   "metadata": {
    "slideshow": {
     "slide_type": "fragment"
    }
   },
   "outputs": [],
   "source": [
    "cols = ['SalesOrderID', 'OrderDate', 'CustomerID']\n",
    "encabezado = pd.read_csv('encabezado.csv', sep='\\t', usecols=cols)"
   ]
  },
  {
   "cell_type": "code",
   "execution_count": 7,
   "metadata": {
    "scrolled": true,
    "slideshow": {
     "slide_type": "fragment"
    }
   },
   "outputs": [
    {
     "data": {
      "text/html": [
       "<div>\n",
       "<style scoped>\n",
       "    .dataframe tbody tr th:only-of-type {\n",
       "        vertical-align: middle;\n",
       "    }\n",
       "\n",
       "    .dataframe tbody tr th {\n",
       "        vertical-align: top;\n",
       "    }\n",
       "\n",
       "    .dataframe thead th {\n",
       "        text-align: right;\n",
       "    }\n",
       "</style>\n",
       "<table border=\"1\" class=\"dataframe\">\n",
       "  <thead>\n",
       "    <tr style=\"text-align: right;\">\n",
       "      <th></th>\n",
       "      <th>SalesOrderID</th>\n",
       "      <th>OrderDate</th>\n",
       "      <th>CustomerID</th>\n",
       "    </tr>\n",
       "  </thead>\n",
       "  <tbody>\n",
       "    <tr>\n",
       "      <th>0</th>\n",
       "      <td>43659</td>\n",
       "      <td>31/5/2011</td>\n",
       "      <td>29825</td>\n",
       "    </tr>\n",
       "    <tr>\n",
       "      <th>1</th>\n",
       "      <td>43660</td>\n",
       "      <td>31/5/2011</td>\n",
       "      <td>29672</td>\n",
       "    </tr>\n",
       "    <tr>\n",
       "      <th>2</th>\n",
       "      <td>43661</td>\n",
       "      <td>31/5/2011</td>\n",
       "      <td>29734</td>\n",
       "    </tr>\n",
       "    <tr>\n",
       "      <th>3</th>\n",
       "      <td>43662</td>\n",
       "      <td>31/5/2011</td>\n",
       "      <td>29994</td>\n",
       "    </tr>\n",
       "    <tr>\n",
       "      <th>4</th>\n",
       "      <td>43663</td>\n",
       "      <td>31/5/2011</td>\n",
       "      <td>29565</td>\n",
       "    </tr>\n",
       "  </tbody>\n",
       "</table>\n",
       "</div>"
      ],
      "text/plain": [
       "   SalesOrderID  OrderDate  CustomerID\n",
       "0         43659  31/5/2011       29825\n",
       "1         43660  31/5/2011       29672\n",
       "2         43661  31/5/2011       29734\n",
       "3         43662  31/5/2011       29994\n",
       "4         43663  31/5/2011       29565"
      ]
     },
     "execution_count": 7,
     "metadata": {},
     "output_type": "execute_result"
    }
   ],
   "source": [
    "encabezado.head()"
   ]
  },
  {
   "cell_type": "markdown",
   "metadata": {
    "slideshow": {
     "slide_type": "slide"
    }
   },
   "source": [
    "Ahora leemos la hoja **detalle**, con el detalle de las órdenes de venta."
   ]
  },
  {
   "cell_type": "code",
   "execution_count": 8,
   "metadata": {
    "slideshow": {
     "slide_type": "fragment"
    }
   },
   "outputs": [],
   "source": [
    "detalle = pd.read_csv('detalle.csv', sep='\\t')\n",
    "#detalle = pd.read_excel('data.xlsx', sheet_name='detalle')"
   ]
  },
  {
   "cell_type": "code",
   "execution_count": 9,
   "metadata": {
    "slideshow": {
     "slide_type": "fragment"
    }
   },
   "outputs": [
    {
     "data": {
      "text/plain": [
       "(121317, 6)"
      ]
     },
     "execution_count": 9,
     "metadata": {},
     "output_type": "execute_result"
    }
   ],
   "source": [
    "detalle.shape"
   ]
  },
  {
   "cell_type": "code",
   "execution_count": 10,
   "metadata": {
    "slideshow": {
     "slide_type": "fragment"
    }
   },
   "outputs": [
    {
     "data": {
      "text/html": [
       "<div>\n",
       "<style scoped>\n",
       "    .dataframe tbody tr th:only-of-type {\n",
       "        vertical-align: middle;\n",
       "    }\n",
       "\n",
       "    .dataframe tbody tr th {\n",
       "        vertical-align: top;\n",
       "    }\n",
       "\n",
       "    .dataframe thead th {\n",
       "        text-align: right;\n",
       "    }\n",
       "</style>\n",
       "<table border=\"1\" class=\"dataframe\">\n",
       "  <thead>\n",
       "    <tr style=\"text-align: right;\">\n",
       "      <th></th>\n",
       "      <th>SalesOrderID</th>\n",
       "      <th>SalesOrderDetailID</th>\n",
       "      <th>ProductID</th>\n",
       "      <th>OrderQty</th>\n",
       "      <th>UnitPrice</th>\n",
       "      <th>UnitPriceDiscount</th>\n",
       "    </tr>\n",
       "  </thead>\n",
       "  <tbody>\n",
       "    <tr>\n",
       "      <th>0</th>\n",
       "      <td>43659</td>\n",
       "      <td>1</td>\n",
       "      <td>776</td>\n",
       "      <td>1</td>\n",
       "      <td>2024.994</td>\n",
       "      <td>0.0</td>\n",
       "    </tr>\n",
       "    <tr>\n",
       "      <th>1</th>\n",
       "      <td>43659</td>\n",
       "      <td>2</td>\n",
       "      <td>777</td>\n",
       "      <td>3</td>\n",
       "      <td>2024.994</td>\n",
       "      <td>0.0</td>\n",
       "    </tr>\n",
       "    <tr>\n",
       "      <th>2</th>\n",
       "      <td>43659</td>\n",
       "      <td>3</td>\n",
       "      <td>778</td>\n",
       "      <td>1</td>\n",
       "      <td>2024.994</td>\n",
       "      <td>0.0</td>\n",
       "    </tr>\n",
       "    <tr>\n",
       "      <th>3</th>\n",
       "      <td>43659</td>\n",
       "      <td>4</td>\n",
       "      <td>771</td>\n",
       "      <td>1</td>\n",
       "      <td>2039.994</td>\n",
       "      <td>0.0</td>\n",
       "    </tr>\n",
       "    <tr>\n",
       "      <th>4</th>\n",
       "      <td>43659</td>\n",
       "      <td>5</td>\n",
       "      <td>772</td>\n",
       "      <td>1</td>\n",
       "      <td>2039.994</td>\n",
       "      <td>0.0</td>\n",
       "    </tr>\n",
       "  </tbody>\n",
       "</table>\n",
       "</div>"
      ],
      "text/plain": [
       "   SalesOrderID  SalesOrderDetailID  ProductID  OrderQty  UnitPrice  \\\n",
       "0         43659                   1        776         1   2024.994   \n",
       "1         43659                   2        777         3   2024.994   \n",
       "2         43659                   3        778         1   2024.994   \n",
       "3         43659                   4        771         1   2039.994   \n",
       "4         43659                   5        772         1   2039.994   \n",
       "\n",
       "   UnitPriceDiscount  \n",
       "0                0.0  \n",
       "1                0.0  \n",
       "2                0.0  \n",
       "3                0.0  \n",
       "4                0.0  "
      ]
     },
     "execution_count": 10,
     "metadata": {},
     "output_type": "execute_result"
    }
   ],
   "source": [
    "detalle.head()"
   ]
  },
  {
   "cell_type": "code",
   "execution_count": 11,
   "metadata": {
    "slideshow": {
     "slide_type": "slide"
    }
   },
   "outputs": [
    {
     "data": {
      "text/html": [
       "<div>\n",
       "<style scoped>\n",
       "    .dataframe tbody tr th:only-of-type {\n",
       "        vertical-align: middle;\n",
       "    }\n",
       "\n",
       "    .dataframe tbody tr th {\n",
       "        vertical-align: top;\n",
       "    }\n",
       "\n",
       "    .dataframe thead th {\n",
       "        text-align: right;\n",
       "    }\n",
       "</style>\n",
       "<table border=\"1\" class=\"dataframe\">\n",
       "  <thead>\n",
       "    <tr style=\"text-align: right;\">\n",
       "      <th></th>\n",
       "      <th>SalesOrderID</th>\n",
       "      <th>SalesOrderDetailID</th>\n",
       "      <th>ProductID</th>\n",
       "      <th>OrderQty</th>\n",
       "      <th>UnitPrice</th>\n",
       "      <th>UnitPriceDiscount</th>\n",
       "    </tr>\n",
       "  </thead>\n",
       "  <tbody>\n",
       "    <tr>\n",
       "      <th>count</th>\n",
       "      <td>121317.000000</td>\n",
       "      <td>121317.000000</td>\n",
       "      <td>121317.000000</td>\n",
       "      <td>121317.000000</td>\n",
       "      <td>121317.000000</td>\n",
       "      <td>121317.000000</td>\n",
       "    </tr>\n",
       "    <tr>\n",
       "      <th>mean</th>\n",
       "      <td>57827.363782</td>\n",
       "      <td>60659.000000</td>\n",
       "      <td>841.680836</td>\n",
       "      <td>2.266080</td>\n",
       "      <td>465.093496</td>\n",
       "      <td>0.002826</td>\n",
       "    </tr>\n",
       "    <tr>\n",
       "      <th>std</th>\n",
       "      <td>9009.147902</td>\n",
       "      <td>35021.345641</td>\n",
       "      <td>86.452124</td>\n",
       "      <td>2.491323</td>\n",
       "      <td>751.885081</td>\n",
       "      <td>0.024811</td>\n",
       "    </tr>\n",
       "    <tr>\n",
       "      <th>min</th>\n",
       "      <td>43659.000000</td>\n",
       "      <td>1.000000</td>\n",
       "      <td>707.000000</td>\n",
       "      <td>1.000000</td>\n",
       "      <td>1.328200</td>\n",
       "      <td>0.000000</td>\n",
       "    </tr>\n",
       "    <tr>\n",
       "      <th>25%</th>\n",
       "      <td>49884.000000</td>\n",
       "      <td>30330.000000</td>\n",
       "      <td>768.000000</td>\n",
       "      <td>1.000000</td>\n",
       "      <td>21.490000</td>\n",
       "      <td>0.000000</td>\n",
       "    </tr>\n",
       "    <tr>\n",
       "      <th>50%</th>\n",
       "      <td>57029.000000</td>\n",
       "      <td>60659.000000</td>\n",
       "      <td>863.000000</td>\n",
       "      <td>1.000000</td>\n",
       "      <td>49.990000</td>\n",
       "      <td>0.000000</td>\n",
       "    </tr>\n",
       "    <tr>\n",
       "      <th>75%</th>\n",
       "      <td>65490.000000</td>\n",
       "      <td>90988.000000</td>\n",
       "      <td>921.000000</td>\n",
       "      <td>3.000000</td>\n",
       "      <td>602.346000</td>\n",
       "      <td>0.000000</td>\n",
       "    </tr>\n",
       "    <tr>\n",
       "      <th>max</th>\n",
       "      <td>75123.000000</td>\n",
       "      <td>121317.000000</td>\n",
       "      <td>999.000000</td>\n",
       "      <td>44.000000</td>\n",
       "      <td>3578.270000</td>\n",
       "      <td>0.400000</td>\n",
       "    </tr>\n",
       "  </tbody>\n",
       "</table>\n",
       "</div>"
      ],
      "text/plain": [
       "        SalesOrderID  SalesOrderDetailID      ProductID       OrderQty  \\\n",
       "count  121317.000000       121317.000000  121317.000000  121317.000000   \n",
       "mean    57827.363782        60659.000000     841.680836       2.266080   \n",
       "std      9009.147902        35021.345641      86.452124       2.491323   \n",
       "min     43659.000000            1.000000     707.000000       1.000000   \n",
       "25%     49884.000000        30330.000000     768.000000       1.000000   \n",
       "50%     57029.000000        60659.000000     863.000000       1.000000   \n",
       "75%     65490.000000        90988.000000     921.000000       3.000000   \n",
       "max     75123.000000       121317.000000     999.000000      44.000000   \n",
       "\n",
       "           UnitPrice  UnitPriceDiscount  \n",
       "count  121317.000000      121317.000000  \n",
       "mean      465.093496           0.002826  \n",
       "std       751.885081           0.024811  \n",
       "min         1.328200           0.000000  \n",
       "25%        21.490000           0.000000  \n",
       "50%        49.990000           0.000000  \n",
       "75%       602.346000           0.000000  \n",
       "max      3578.270000           0.400000  "
      ]
     },
     "execution_count": 11,
     "metadata": {},
     "output_type": "execute_result"
    }
   ],
   "source": [
    "detalle.describe()"
   ]
  },
  {
   "cell_type": "markdown",
   "metadata": {
    "slideshow": {
     "slide_type": "slide"
    }
   },
   "source": [
    "### 4) Creación de columnas calculadas"
   ]
  },
  {
   "cell_type": "markdown",
   "metadata": {
    "slideshow": {
     "slide_type": "fragment"
    }
   },
   "source": [
    "Creamos la columna **ItemTotal**, con el importe total de cada item: PrecioUnitario * Cantidad - Descuento"
   ]
  },
  {
   "cell_type": "code",
   "execution_count": 12,
   "metadata": {
    "slideshow": {
     "slide_type": "fragment"
    }
   },
   "outputs": [],
   "source": [
    "detalle['ItemTotal'] = detalle['UnitPrice'] * detalle['OrderQty'] * (1 - detalle['UnitPriceDiscount'])"
   ]
  },
  {
   "cell_type": "code",
   "execution_count": 13,
   "metadata": {
    "slideshow": {
     "slide_type": "fragment"
    }
   },
   "outputs": [
    {
     "data": {
      "text/html": [
       "<div>\n",
       "<style scoped>\n",
       "    .dataframe tbody tr th:only-of-type {\n",
       "        vertical-align: middle;\n",
       "    }\n",
       "\n",
       "    .dataframe tbody tr th {\n",
       "        vertical-align: top;\n",
       "    }\n",
       "\n",
       "    .dataframe thead th {\n",
       "        text-align: right;\n",
       "    }\n",
       "</style>\n",
       "<table border=\"1\" class=\"dataframe\">\n",
       "  <thead>\n",
       "    <tr style=\"text-align: right;\">\n",
       "      <th></th>\n",
       "      <th>SalesOrderID</th>\n",
       "      <th>SalesOrderDetailID</th>\n",
       "      <th>ProductID</th>\n",
       "      <th>OrderQty</th>\n",
       "      <th>UnitPrice</th>\n",
       "      <th>UnitPriceDiscount</th>\n",
       "      <th>ItemTotal</th>\n",
       "    </tr>\n",
       "  </thead>\n",
       "  <tbody>\n",
       "    <tr>\n",
       "      <th>0</th>\n",
       "      <td>43659</td>\n",
       "      <td>1</td>\n",
       "      <td>776</td>\n",
       "      <td>1</td>\n",
       "      <td>2024.994</td>\n",
       "      <td>0.0</td>\n",
       "      <td>2024.994</td>\n",
       "    </tr>\n",
       "    <tr>\n",
       "      <th>1</th>\n",
       "      <td>43659</td>\n",
       "      <td>2</td>\n",
       "      <td>777</td>\n",
       "      <td>3</td>\n",
       "      <td>2024.994</td>\n",
       "      <td>0.0</td>\n",
       "      <td>6074.982</td>\n",
       "    </tr>\n",
       "    <tr>\n",
       "      <th>2</th>\n",
       "      <td>43659</td>\n",
       "      <td>3</td>\n",
       "      <td>778</td>\n",
       "      <td>1</td>\n",
       "      <td>2024.994</td>\n",
       "      <td>0.0</td>\n",
       "      <td>2024.994</td>\n",
       "    </tr>\n",
       "    <tr>\n",
       "      <th>3</th>\n",
       "      <td>43659</td>\n",
       "      <td>4</td>\n",
       "      <td>771</td>\n",
       "      <td>1</td>\n",
       "      <td>2039.994</td>\n",
       "      <td>0.0</td>\n",
       "      <td>2039.994</td>\n",
       "    </tr>\n",
       "    <tr>\n",
       "      <th>4</th>\n",
       "      <td>43659</td>\n",
       "      <td>5</td>\n",
       "      <td>772</td>\n",
       "      <td>1</td>\n",
       "      <td>2039.994</td>\n",
       "      <td>0.0</td>\n",
       "      <td>2039.994</td>\n",
       "    </tr>\n",
       "  </tbody>\n",
       "</table>\n",
       "</div>"
      ],
      "text/plain": [
       "   SalesOrderID  SalesOrderDetailID  ProductID  OrderQty  UnitPrice  \\\n",
       "0         43659                   1        776         1   2024.994   \n",
       "1         43659                   2        777         3   2024.994   \n",
       "2         43659                   3        778         1   2024.994   \n",
       "3         43659                   4        771         1   2039.994   \n",
       "4         43659                   5        772         1   2039.994   \n",
       "\n",
       "   UnitPriceDiscount  ItemTotal  \n",
       "0                0.0   2024.994  \n",
       "1                0.0   6074.982  \n",
       "2                0.0   2024.994  \n",
       "3                0.0   2039.994  \n",
       "4                0.0   2039.994  "
      ]
     },
     "execution_count": 13,
     "metadata": {},
     "output_type": "execute_result"
    }
   ],
   "source": [
    "detalle.head()"
   ]
  },
  {
   "cell_type": "markdown",
   "metadata": {
    "slideshow": {
     "slide_type": "fragment"
    }
   },
   "source": [
    "Verificamos que los descuentos estén bien calculados.\n",
    "\n",
    "Una forma de filtrar datos de un dataframe, es con la función **query**"
   ]
  },
  {
   "cell_type": "markdown",
   "metadata": {
    "slideshow": {
     "slide_type": "slide"
    }
   },
   "source": [
    "### 5) Filtrado de datos"
   ]
  },
  {
   "cell_type": "markdown",
   "metadata": {
    "slideshow": {
     "slide_type": "fragment"
    }
   },
   "source": [
    "* Método **query**"
   ]
  },
  {
   "cell_type": "code",
   "execution_count": 14,
   "metadata": {
    "slideshow": {
     "slide_type": "fragment"
    }
   },
   "outputs": [
    {
     "data": {
      "text/html": [
       "<div>\n",
       "<style scoped>\n",
       "    .dataframe tbody tr th:only-of-type {\n",
       "        vertical-align: middle;\n",
       "    }\n",
       "\n",
       "    .dataframe tbody tr th {\n",
       "        vertical-align: top;\n",
       "    }\n",
       "\n",
       "    .dataframe thead th {\n",
       "        text-align: right;\n",
       "    }\n",
       "</style>\n",
       "<table border=\"1\" class=\"dataframe\">\n",
       "  <thead>\n",
       "    <tr style=\"text-align: right;\">\n",
       "      <th></th>\n",
       "      <th>SalesOrderID</th>\n",
       "      <th>SalesOrderDetailID</th>\n",
       "      <th>ProductID</th>\n",
       "      <th>OrderQty</th>\n",
       "      <th>UnitPrice</th>\n",
       "      <th>UnitPriceDiscount</th>\n",
       "      <th>ItemTotal</th>\n",
       "    </tr>\n",
       "  </thead>\n",
       "  <tbody>\n",
       "    <tr>\n",
       "      <th>802</th>\n",
       "      <td>43875</td>\n",
       "      <td>803</td>\n",
       "      <td>773</td>\n",
       "      <td>12</td>\n",
       "      <td>1971.9942</td>\n",
       "      <td>0.02</td>\n",
       "      <td>23190.651792</td>\n",
       "    </tr>\n",
       "    <tr>\n",
       "      <th>804</th>\n",
       "      <td>43875</td>\n",
       "      <td>805</td>\n",
       "      <td>775</td>\n",
       "      <td>13</td>\n",
       "      <td>1957.4942</td>\n",
       "      <td>0.02</td>\n",
       "      <td>24938.476108</td>\n",
       "    </tr>\n",
       "    <tr>\n",
       "      <th>859</th>\n",
       "      <td>43879</td>\n",
       "      <td>860</td>\n",
       "      <td>712</td>\n",
       "      <td>13</td>\n",
       "      <td>5.0136</td>\n",
       "      <td>0.02</td>\n",
       "      <td>63.873264</td>\n",
       "    </tr>\n",
       "    <tr>\n",
       "      <th>880</th>\n",
       "      <td>43881</td>\n",
       "      <td>881</td>\n",
       "      <td>709</td>\n",
       "      <td>21</td>\n",
       "      <td>5.2250</td>\n",
       "      <td>0.05</td>\n",
       "      <td>104.238750</td>\n",
       "    </tr>\n",
       "    <tr>\n",
       "      <th>915</th>\n",
       "      <td>43884</td>\n",
       "      <td>916</td>\n",
       "      <td>772</td>\n",
       "      <td>14</td>\n",
       "      <td>1971.9942</td>\n",
       "      <td>0.02</td>\n",
       "      <td>27055.760424</td>\n",
       "    </tr>\n",
       "    <tr>\n",
       "      <th>1038</th>\n",
       "      <td>43898</td>\n",
       "      <td>1039</td>\n",
       "      <td>770</td>\n",
       "      <td>13</td>\n",
       "      <td>405.4770</td>\n",
       "      <td>0.02</td>\n",
       "      <td>5165.776980</td>\n",
       "    </tr>\n",
       "    <tr>\n",
       "      <th>1050</th>\n",
       "      <td>43898</td>\n",
       "      <td>1051</td>\n",
       "      <td>715</td>\n",
       "      <td>11</td>\n",
       "      <td>27.8790</td>\n",
       "      <td>0.02</td>\n",
       "      <td>300.535620</td>\n",
       "    </tr>\n",
       "    <tr>\n",
       "      <th>1144</th>\n",
       "      <td>43906</td>\n",
       "      <td>1145</td>\n",
       "      <td>709</td>\n",
       "      <td>26</td>\n",
       "      <td>4.7500</td>\n",
       "      <td>0.10</td>\n",
       "      <td>111.150000</td>\n",
       "    </tr>\n",
       "    <tr>\n",
       "      <th>1643</th>\n",
       "      <td>44098</td>\n",
       "      <td>1644</td>\n",
       "      <td>709</td>\n",
       "      <td>22</td>\n",
       "      <td>5.2250</td>\n",
       "      <td>0.05</td>\n",
       "      <td>109.202500</td>\n",
       "    </tr>\n",
       "    <tr>\n",
       "      <th>1659</th>\n",
       "      <td>44100</td>\n",
       "      <td>1660</td>\n",
       "      <td>777</td>\n",
       "      <td>11</td>\n",
       "      <td>1957.4942</td>\n",
       "      <td>0.02</td>\n",
       "      <td>21101.787476</td>\n",
       "    </tr>\n",
       "  </tbody>\n",
       "</table>\n",
       "</div>"
      ],
      "text/plain": [
       "      SalesOrderID  SalesOrderDetailID  ProductID  OrderQty  UnitPrice  \\\n",
       "802          43875                 803        773        12  1971.9942   \n",
       "804          43875                 805        775        13  1957.4942   \n",
       "859          43879                 860        712        13     5.0136   \n",
       "880          43881                 881        709        21     5.2250   \n",
       "915          43884                 916        772        14  1971.9942   \n",
       "1038         43898                1039        770        13   405.4770   \n",
       "1050         43898                1051        715        11    27.8790   \n",
       "1144         43906                1145        709        26     4.7500   \n",
       "1643         44098                1644        709        22     5.2250   \n",
       "1659         44100                1660        777        11  1957.4942   \n",
       "\n",
       "      UnitPriceDiscount     ItemTotal  \n",
       "802                0.02  23190.651792  \n",
       "804                0.02  24938.476108  \n",
       "859                0.02     63.873264  \n",
       "880                0.05    104.238750  \n",
       "915                0.02  27055.760424  \n",
       "1038               0.02   5165.776980  \n",
       "1050               0.02    300.535620  \n",
       "1144               0.10    111.150000  \n",
       "1643               0.05    109.202500  \n",
       "1659               0.02  21101.787476  "
      ]
     },
     "execution_count": 14,
     "metadata": {},
     "output_type": "execute_result"
    }
   ],
   "source": [
    "detalle.query('UnitPriceDiscount != 0.0').head(10)"
   ]
  },
  {
   "cell_type": "markdown",
   "metadata": {
    "slideshow": {
     "slide_type": "fragment"
    }
   },
   "source": [
    "Si queremos ver la cantidad de valores únicos de una columna, usamos **unique**"
   ]
  },
  {
   "cell_type": "code",
   "execution_count": 15,
   "metadata": {
    "slideshow": {
     "slide_type": "fragment"
    }
   },
   "outputs": [
    {
     "data": {
      "text/plain": [
       "array([0.  , 0.02, 0.05, 0.1 , 0.35, 0.3 , 0.15, 0.2 , 0.4 ])"
      ]
     },
     "execution_count": 15,
     "metadata": {},
     "output_type": "execute_result"
    }
   ],
   "source": [
    "detalle['UnitPriceDiscount'].unique()"
   ]
  },
  {
   "cell_type": "markdown",
   "metadata": {
    "slideshow": {
     "slide_type": "slide"
    }
   },
   "source": [
    "Y con **value_counts** podemos ver la cantidad de valores únicos para cada valor de una columna"
   ]
  },
  {
   "cell_type": "code",
   "execution_count": 16,
   "metadata": {
    "slideshow": {
     "slide_type": "fragment"
    }
   },
   "outputs": [
    {
     "data": {
      "text/plain": [
       "51721    72\n",
       "51739    72\n",
       "53465    71\n",
       "51160    71\n",
       "47355    68\n",
       "51120    67\n",
       "57046    67\n",
       "55297    66\n",
       "47395    66\n",
       "51090    66\n",
       "46616    65\n",
       "47369    65\n",
       "51751    65\n",
       "46981    65\n",
       "58918    65\n",
       "57061    65\n",
       "51748    64\n",
       "51822    62\n",
       "53560    62\n",
       "51774    62\n",
       "53536    61\n",
       "53518    61\n",
       "71794    61\n",
       "55249    61\n",
       "69422    61\n",
       "51131    60\n",
       "47366    60\n",
       "46614    60\n",
       "69437    60\n",
       "53527    59\n",
       "         ..\n",
       "46665     1\n",
       "53126     1\n",
       "57092     1\n",
       "61314     1\n",
       "63361     1\n",
       "44874     1\n",
       "46921     1\n",
       "48968     1\n",
       "51015     1\n",
       "69438     1\n",
       "44810     1\n",
       "46857     1\n",
       "48904     1\n",
       "50951     1\n",
       "55045     1\n",
       "59139     1\n",
       "44618     1\n",
       "46793     1\n",
       "48840     1\n",
       "50887     1\n",
       "52934     1\n",
       "54981     1\n",
       "69310     1\n",
       "71357     1\n",
       "44682     1\n",
       "46729     1\n",
       "50823     1\n",
       "61058     1\n",
       "63105     1\n",
       "45078     1\n",
       "Name: SalesOrderID, Length: 31465, dtype: int64"
      ]
     },
     "execution_count": 16,
     "metadata": {},
     "output_type": "execute_result"
    }
   ],
   "source": [
    "detalle['SalesOrderID'].value_counts()"
   ]
  },
  {
   "cell_type": "markdown",
   "metadata": {
    "slideshow": {
     "slide_type": "slide"
    }
   },
   "source": [
    "* Opción con filtro de valores con indexado booleano:\n",
    "\n",
    "El primer paso es crear el índice booleano, donde Pandas va a marcar si cada fila cumple o no la condición"
   ]
  },
  {
   "cell_type": "code",
   "execution_count": 17,
   "metadata": {
    "slideshow": {
     "slide_type": "fragment"
    }
   },
   "outputs": [
    {
     "data": {
      "text/plain": [
       "0          True\n",
       "1          True\n",
       "2          True\n",
       "3          True\n",
       "4          True\n",
       "5          True\n",
       "6          True\n",
       "7          True\n",
       "8          True\n",
       "9          True\n",
       "10         True\n",
       "11         True\n",
       "12        False\n",
       "13        False\n",
       "14        False\n",
       "15        False\n",
       "16        False\n",
       "17        False\n",
       "18        False\n",
       "19        False\n",
       "20        False\n",
       "21        False\n",
       "22        False\n",
       "23        False\n",
       "24        False\n",
       "25        False\n",
       "26        False\n",
       "27        False\n",
       "28        False\n",
       "29        False\n",
       "          ...  \n",
       "121287    False\n",
       "121288    False\n",
       "121289    False\n",
       "121290    False\n",
       "121291    False\n",
       "121292    False\n",
       "121293    False\n",
       "121294    False\n",
       "121295    False\n",
       "121296    False\n",
       "121297    False\n",
       "121298    False\n",
       "121299    False\n",
       "121300    False\n",
       "121301    False\n",
       "121302    False\n",
       "121303    False\n",
       "121304    False\n",
       "121305    False\n",
       "121306    False\n",
       "121307    False\n",
       "121308    False\n",
       "121309    False\n",
       "121310    False\n",
       "121311    False\n",
       "121312    False\n",
       "121313    False\n",
       "121314    False\n",
       "121315    False\n",
       "121316    False\n",
       "Name: SalesOrderID, Length: 121317, dtype: bool"
      ]
     },
     "execution_count": 17,
     "metadata": {},
     "output_type": "execute_result"
    }
   ],
   "source": [
    "detalle['SalesOrderID'] == 43659"
   ]
  },
  {
   "cell_type": "markdown",
   "metadata": {
    "slideshow": {
     "slide_type": "slide"
    }
   },
   "source": [
    "Y como 2° y último paso, para que podamos mostrar los valores filtrados correctamente, tenemos que pasarle los valores verdaderos al dataframe"
   ]
  },
  {
   "cell_type": "code",
   "execution_count": 18,
   "metadata": {
    "slideshow": {
     "slide_type": "fragment"
    }
   },
   "outputs": [
    {
     "data": {
      "text/html": [
       "<div>\n",
       "<style scoped>\n",
       "    .dataframe tbody tr th:only-of-type {\n",
       "        vertical-align: middle;\n",
       "    }\n",
       "\n",
       "    .dataframe tbody tr th {\n",
       "        vertical-align: top;\n",
       "    }\n",
       "\n",
       "    .dataframe thead th {\n",
       "        text-align: right;\n",
       "    }\n",
       "</style>\n",
       "<table border=\"1\" class=\"dataframe\">\n",
       "  <thead>\n",
       "    <tr style=\"text-align: right;\">\n",
       "      <th></th>\n",
       "      <th>SalesOrderID</th>\n",
       "      <th>SalesOrderDetailID</th>\n",
       "      <th>ProductID</th>\n",
       "      <th>OrderQty</th>\n",
       "      <th>UnitPrice</th>\n",
       "      <th>UnitPriceDiscount</th>\n",
       "      <th>ItemTotal</th>\n",
       "    </tr>\n",
       "  </thead>\n",
       "  <tbody>\n",
       "    <tr>\n",
       "      <th>0</th>\n",
       "      <td>43659</td>\n",
       "      <td>1</td>\n",
       "      <td>776</td>\n",
       "      <td>1</td>\n",
       "      <td>2024.994</td>\n",
       "      <td>0.0</td>\n",
       "      <td>2024.994</td>\n",
       "    </tr>\n",
       "    <tr>\n",
       "      <th>1</th>\n",
       "      <td>43659</td>\n",
       "      <td>2</td>\n",
       "      <td>777</td>\n",
       "      <td>3</td>\n",
       "      <td>2024.994</td>\n",
       "      <td>0.0</td>\n",
       "      <td>6074.982</td>\n",
       "    </tr>\n",
       "    <tr>\n",
       "      <th>2</th>\n",
       "      <td>43659</td>\n",
       "      <td>3</td>\n",
       "      <td>778</td>\n",
       "      <td>1</td>\n",
       "      <td>2024.994</td>\n",
       "      <td>0.0</td>\n",
       "      <td>2024.994</td>\n",
       "    </tr>\n",
       "    <tr>\n",
       "      <th>3</th>\n",
       "      <td>43659</td>\n",
       "      <td>4</td>\n",
       "      <td>771</td>\n",
       "      <td>1</td>\n",
       "      <td>2039.994</td>\n",
       "      <td>0.0</td>\n",
       "      <td>2039.994</td>\n",
       "    </tr>\n",
       "    <tr>\n",
       "      <th>4</th>\n",
       "      <td>43659</td>\n",
       "      <td>5</td>\n",
       "      <td>772</td>\n",
       "      <td>1</td>\n",
       "      <td>2039.994</td>\n",
       "      <td>0.0</td>\n",
       "      <td>2039.994</td>\n",
       "    </tr>\n",
       "  </tbody>\n",
       "</table>\n",
       "</div>"
      ],
      "text/plain": [
       "   SalesOrderID  SalesOrderDetailID  ProductID  OrderQty  UnitPrice  \\\n",
       "0         43659                   1        776         1   2024.994   \n",
       "1         43659                   2        777         3   2024.994   \n",
       "2         43659                   3        778         1   2024.994   \n",
       "3         43659                   4        771         1   2039.994   \n",
       "4         43659                   5        772         1   2039.994   \n",
       "\n",
       "   UnitPriceDiscount  ItemTotal  \n",
       "0                0.0   2024.994  \n",
       "1                0.0   6074.982  \n",
       "2                0.0   2024.994  \n",
       "3                0.0   2039.994  \n",
       "4                0.0   2039.994  "
      ]
     },
     "execution_count": 18,
     "metadata": {},
     "output_type": "execute_result"
    }
   ],
   "source": [
    "orde443659 = detalle[detalle['SalesOrderID'] == 43659]\n",
    "orde443659.head()"
   ]
  },
  {
   "cell_type": "markdown",
   "metadata": {
    "slideshow": {
     "slide_type": "slide"
    }
   },
   "source": [
    "### 6) Agrupación y sumarización de datos\n",
    "    \n",
    "Usando Pandas **groupby**"
   ]
  },
  {
   "cell_type": "code",
   "execution_count": 19,
   "metadata": {
    "slideshow": {
     "slide_type": "fragment"
    }
   },
   "outputs": [
    {
     "data": {
      "text/plain": [
       "SalesOrderID\n",
       "43659    20565.6206\n",
       "43660     1294.2529\n",
       "43661    32726.4786\n",
       "43662    28832.5289\n",
       "43663      419.4589\n",
       "43664    24432.6088\n",
       "43665    14352.7713\n",
       "43666     5056.4896\n",
       "43667     6107.0820\n",
       "43668    35944.1562\n",
       "43669      714.7043\n",
       "43670     6122.0820\n",
       "43671     8128.7876\n",
       "43672     6124.1820\n",
       "43673     3746.2015\n",
       "43674     2624.3820\n",
       "43675     5716.3102\n",
       "43676    14203.4580\n",
       "43677     7793.1108\n",
       "43678     9799.9243\n",
       "43679     1316.0575\n",
       "43680    11397.4992\n",
       "43681    13787.5434\n",
       "43682     3875.7229\n",
       "43683    42813.4333\n",
       "43684     5596.4705\n",
       "43685     2736.5678\n",
       "43686     3463.2998\n",
       "43687     1258.3767\n",
       "43688    12718.0844\n",
       "            ...    \n",
       "75094        7.9500\n",
       "75095       53.9900\n",
       "75096       88.9700\n",
       "75097       44.9800\n",
       "75098       37.2700\n",
       "75099       72.9300\n",
       "75100       78.4800\n",
       "75101      133.4900\n",
       "75102      119.9800\n",
       "75103       39.9800\n",
       "75104       12.9400\n",
       "75105       98.9600\n",
       "75106        7.2800\n",
       "75107       56.9700\n",
       "75108        4.9900\n",
       "75109       85.4800\n",
       "75110       84.9200\n",
       "75111       48.9700\n",
       "75112       38.9800\n",
       "75113      114.9600\n",
       "75114       21.4900\n",
       "75115       80.4700\n",
       "75116        4.9900\n",
       "75117       29.4800\n",
       "75118      135.2300\n",
       "75119       42.2800\n",
       "75120       84.9600\n",
       "75121       74.9800\n",
       "75122       30.9700\n",
       "75123      189.9700\n",
       "Name: ItemTotal, Length: 31465, dtype: float64"
      ]
     },
     "execution_count": 19,
     "metadata": {},
     "output_type": "execute_result"
    }
   ],
   "source": [
    "detalle.groupby('SalesOrderID')['ItemTotal'].sum()"
   ]
  },
  {
   "cell_type": "code",
   "execution_count": 20,
   "metadata": {
    "slideshow": {
     "slide_type": "slide"
    }
   },
   "outputs": [
    {
     "data": {
      "text/html": [
       "<div>\n",
       "<style scoped>\n",
       "    .dataframe tbody tr th:only-of-type {\n",
       "        vertical-align: middle;\n",
       "    }\n",
       "\n",
       "    .dataframe tbody tr th {\n",
       "        vertical-align: top;\n",
       "    }\n",
       "\n",
       "    .dataframe thead th {\n",
       "        text-align: right;\n",
       "    }\n",
       "</style>\n",
       "<table border=\"1\" class=\"dataframe\">\n",
       "  <thead>\n",
       "    <tr style=\"text-align: right;\">\n",
       "      <th></th>\n",
       "      <th>sum</th>\n",
       "      <th>max</th>\n",
       "    </tr>\n",
       "    <tr>\n",
       "      <th>SalesOrderID</th>\n",
       "      <th></th>\n",
       "      <th></th>\n",
       "    </tr>\n",
       "  </thead>\n",
       "  <tbody>\n",
       "    <tr>\n",
       "      <th>43659</th>\n",
       "      <td>20565.6206</td>\n",
       "      <td>6074.9820</td>\n",
       "    </tr>\n",
       "    <tr>\n",
       "      <th>43660</th>\n",
       "      <td>1294.2529</td>\n",
       "      <td>874.7940</td>\n",
       "    </tr>\n",
       "    <tr>\n",
       "      <th>43661</th>\n",
       "      <td>32726.4786</td>\n",
       "      <td>8099.9760</td>\n",
       "    </tr>\n",
       "    <tr>\n",
       "      <th>43662</th>\n",
       "      <td>28832.5289</td>\n",
       "      <td>5248.7640</td>\n",
       "    </tr>\n",
       "    <tr>\n",
       "      <th>43663</th>\n",
       "      <td>419.4589</td>\n",
       "      <td>419.4589</td>\n",
       "    </tr>\n",
       "    <tr>\n",
       "      <th>43664</th>\n",
       "      <td>24432.6088</td>\n",
       "      <td>8099.9760</td>\n",
       "    </tr>\n",
       "    <tr>\n",
       "      <th>43665</th>\n",
       "      <td>14352.7713</td>\n",
       "      <td>4049.9880</td>\n",
       "    </tr>\n",
       "    <tr>\n",
       "      <th>43666</th>\n",
       "      <td>5056.4896</td>\n",
       "      <td>2146.9620</td>\n",
       "    </tr>\n",
       "    <tr>\n",
       "      <th>43667</th>\n",
       "      <td>6107.0820</td>\n",
       "      <td>2039.9940</td>\n",
       "    </tr>\n",
       "    <tr>\n",
       "      <th>43668</th>\n",
       "      <td>35944.1562</td>\n",
       "      <td>5248.7640</td>\n",
       "    </tr>\n",
       "    <tr>\n",
       "      <th>43669</th>\n",
       "      <td>714.7043</td>\n",
       "      <td>714.7043</td>\n",
       "    </tr>\n",
       "    <tr>\n",
       "      <th>43670</th>\n",
       "      <td>6122.0820</td>\n",
       "      <td>4079.9880</td>\n",
       "    </tr>\n",
       "    <tr>\n",
       "      <th>43671</th>\n",
       "      <td>8128.7876</td>\n",
       "      <td>2146.9620</td>\n",
       "    </tr>\n",
       "    <tr>\n",
       "      <th>43672</th>\n",
       "      <td>6124.1820</td>\n",
       "      <td>4049.9880</td>\n",
       "    </tr>\n",
       "    <tr>\n",
       "      <th>43673</th>\n",
       "      <td>3746.2015</td>\n",
       "      <td>874.7940</td>\n",
       "    </tr>\n",
       "    <tr>\n",
       "      <th>43674</th>\n",
       "      <td>2624.3820</td>\n",
       "      <td>2624.3820</td>\n",
       "    </tr>\n",
       "    <tr>\n",
       "      <th>43675</th>\n",
       "      <td>5716.3102</td>\n",
       "      <td>1749.5880</td>\n",
       "    </tr>\n",
       "    <tr>\n",
       "      <th>43676</th>\n",
       "      <td>14203.4580</td>\n",
       "      <td>6074.9820</td>\n",
       "    </tr>\n",
       "    <tr>\n",
       "      <th>43677</th>\n",
       "      <td>7793.1108</td>\n",
       "      <td>2146.9620</td>\n",
       "    </tr>\n",
       "    <tr>\n",
       "      <th>43678</th>\n",
       "      <td>9799.9243</td>\n",
       "      <td>1749.5880</td>\n",
       "    </tr>\n",
       "    <tr>\n",
       "      <th>43679</th>\n",
       "      <td>1316.0575</td>\n",
       "      <td>838.9178</td>\n",
       "    </tr>\n",
       "    <tr>\n",
       "      <th>43680</th>\n",
       "      <td>11397.4992</td>\n",
       "      <td>4293.9240</td>\n",
       "    </tr>\n",
       "    <tr>\n",
       "      <th>43681</th>\n",
       "      <td>13787.5434</td>\n",
       "      <td>2624.3820</td>\n",
       "    </tr>\n",
       "    <tr>\n",
       "      <th>43682</th>\n",
       "      <td>3875.7229</td>\n",
       "      <td>1749.5880</td>\n",
       "    </tr>\n",
       "    <tr>\n",
       "      <th>43683</th>\n",
       "      <td>42813.4333</td>\n",
       "      <td>12149.9640</td>\n",
       "    </tr>\n",
       "    <tr>\n",
       "      <th>43684</th>\n",
       "      <td>5596.4705</td>\n",
       "      <td>1749.5880</td>\n",
       "    </tr>\n",
       "    <tr>\n",
       "      <th>43685</th>\n",
       "      <td>2736.5678</td>\n",
       "      <td>1258.3767</td>\n",
       "    </tr>\n",
       "    <tr>\n",
       "      <th>43686</th>\n",
       "      <td>3463.2998</td>\n",
       "      <td>2624.3820</td>\n",
       "    </tr>\n",
       "    <tr>\n",
       "      <th>43687</th>\n",
       "      <td>1258.3767</td>\n",
       "      <td>838.9178</td>\n",
       "    </tr>\n",
       "    <tr>\n",
       "      <th>43688</th>\n",
       "      <td>12718.0844</td>\n",
       "      <td>4293.9240</td>\n",
       "    </tr>\n",
       "    <tr>\n",
       "      <th>...</th>\n",
       "      <td>...</td>\n",
       "      <td>...</td>\n",
       "    </tr>\n",
       "    <tr>\n",
       "      <th>75094</th>\n",
       "      <td>7.9500</td>\n",
       "      <td>7.9500</td>\n",
       "    </tr>\n",
       "    <tr>\n",
       "      <th>75095</th>\n",
       "      <td>53.9900</td>\n",
       "      <td>53.9900</td>\n",
       "    </tr>\n",
       "    <tr>\n",
       "      <th>75096</th>\n",
       "      <td>88.9700</td>\n",
       "      <td>49.9900</td>\n",
       "    </tr>\n",
       "    <tr>\n",
       "      <th>75097</th>\n",
       "      <td>44.9800</td>\n",
       "      <td>34.9900</td>\n",
       "    </tr>\n",
       "    <tr>\n",
       "      <th>75098</th>\n",
       "      <td>37.2700</td>\n",
       "      <td>29.9900</td>\n",
       "    </tr>\n",
       "    <tr>\n",
       "      <th>75099</th>\n",
       "      <td>72.9300</td>\n",
       "      <td>54.9900</td>\n",
       "    </tr>\n",
       "    <tr>\n",
       "      <th>75100</th>\n",
       "      <td>78.4800</td>\n",
       "      <td>63.5000</td>\n",
       "    </tr>\n",
       "    <tr>\n",
       "      <th>75101</th>\n",
       "      <td>133.4900</td>\n",
       "      <td>69.9900</td>\n",
       "    </tr>\n",
       "    <tr>\n",
       "      <th>75102</th>\n",
       "      <td>119.9800</td>\n",
       "      <td>69.9900</td>\n",
       "    </tr>\n",
       "    <tr>\n",
       "      <th>75103</th>\n",
       "      <td>39.9800</td>\n",
       "      <td>34.9900</td>\n",
       "    </tr>\n",
       "    <tr>\n",
       "      <th>75104</th>\n",
       "      <td>12.9400</td>\n",
       "      <td>7.9500</td>\n",
       "    </tr>\n",
       "    <tr>\n",
       "      <th>75105</th>\n",
       "      <td>98.9600</td>\n",
       "      <td>49.9900</td>\n",
       "    </tr>\n",
       "    <tr>\n",
       "      <th>75106</th>\n",
       "      <td>7.2800</td>\n",
       "      <td>4.9900</td>\n",
       "    </tr>\n",
       "    <tr>\n",
       "      <th>75107</th>\n",
       "      <td>56.9700</td>\n",
       "      <td>34.9900</td>\n",
       "    </tr>\n",
       "    <tr>\n",
       "      <th>75108</th>\n",
       "      <td>4.9900</td>\n",
       "      <td>4.9900</td>\n",
       "    </tr>\n",
       "    <tr>\n",
       "      <th>75109</th>\n",
       "      <td>85.4800</td>\n",
       "      <td>63.5000</td>\n",
       "    </tr>\n",
       "    <tr>\n",
       "      <th>75110</th>\n",
       "      <td>84.9200</td>\n",
       "      <td>54.9900</td>\n",
       "    </tr>\n",
       "    <tr>\n",
       "      <th>75111</th>\n",
       "      <td>48.9700</td>\n",
       "      <td>34.9900</td>\n",
       "    </tr>\n",
       "    <tr>\n",
       "      <th>75112</th>\n",
       "      <td>38.9800</td>\n",
       "      <td>29.9900</td>\n",
       "    </tr>\n",
       "    <tr>\n",
       "      <th>75113</th>\n",
       "      <td>114.9600</td>\n",
       "      <td>49.9900</td>\n",
       "    </tr>\n",
       "    <tr>\n",
       "      <th>75114</th>\n",
       "      <td>21.4900</td>\n",
       "      <td>21.4900</td>\n",
       "    </tr>\n",
       "    <tr>\n",
       "      <th>75115</th>\n",
       "      <td>80.4700</td>\n",
       "      <td>54.9900</td>\n",
       "    </tr>\n",
       "    <tr>\n",
       "      <th>75116</th>\n",
       "      <td>4.9900</td>\n",
       "      <td>4.9900</td>\n",
       "    </tr>\n",
       "    <tr>\n",
       "      <th>75117</th>\n",
       "      <td>29.4800</td>\n",
       "      <td>24.4900</td>\n",
       "    </tr>\n",
       "    <tr>\n",
       "      <th>75118</th>\n",
       "      <td>135.2300</td>\n",
       "      <td>120.0000</td>\n",
       "    </tr>\n",
       "    <tr>\n",
       "      <th>75119</th>\n",
       "      <td>42.2800</td>\n",
       "      <td>35.0000</td>\n",
       "    </tr>\n",
       "    <tr>\n",
       "      <th>75120</th>\n",
       "      <td>84.9600</td>\n",
       "      <td>53.9900</td>\n",
       "    </tr>\n",
       "    <tr>\n",
       "      <th>75121</th>\n",
       "      <td>74.9800</td>\n",
       "      <td>35.0000</td>\n",
       "    </tr>\n",
       "    <tr>\n",
       "      <th>75122</th>\n",
       "      <td>30.9700</td>\n",
       "      <td>21.9800</td>\n",
       "    </tr>\n",
       "    <tr>\n",
       "      <th>75123</th>\n",
       "      <td>189.9700</td>\n",
       "      <td>159.0000</td>\n",
       "    </tr>\n",
       "  </tbody>\n",
       "</table>\n",
       "<p>31465 rows × 2 columns</p>\n",
       "</div>"
      ],
      "text/plain": [
       "                     sum         max\n",
       "SalesOrderID                        \n",
       "43659         20565.6206   6074.9820\n",
       "43660          1294.2529    874.7940\n",
       "43661         32726.4786   8099.9760\n",
       "43662         28832.5289   5248.7640\n",
       "43663           419.4589    419.4589\n",
       "43664         24432.6088   8099.9760\n",
       "43665         14352.7713   4049.9880\n",
       "43666          5056.4896   2146.9620\n",
       "43667          6107.0820   2039.9940\n",
       "43668         35944.1562   5248.7640\n",
       "43669           714.7043    714.7043\n",
       "43670          6122.0820   4079.9880\n",
       "43671          8128.7876   2146.9620\n",
       "43672          6124.1820   4049.9880\n",
       "43673          3746.2015    874.7940\n",
       "43674          2624.3820   2624.3820\n",
       "43675          5716.3102   1749.5880\n",
       "43676         14203.4580   6074.9820\n",
       "43677          7793.1108   2146.9620\n",
       "43678          9799.9243   1749.5880\n",
       "43679          1316.0575    838.9178\n",
       "43680         11397.4992   4293.9240\n",
       "43681         13787.5434   2624.3820\n",
       "43682          3875.7229   1749.5880\n",
       "43683         42813.4333  12149.9640\n",
       "43684          5596.4705   1749.5880\n",
       "43685          2736.5678   1258.3767\n",
       "43686          3463.2998   2624.3820\n",
       "43687          1258.3767    838.9178\n",
       "43688         12718.0844   4293.9240\n",
       "...                  ...         ...\n",
       "75094             7.9500      7.9500\n",
       "75095            53.9900     53.9900\n",
       "75096            88.9700     49.9900\n",
       "75097            44.9800     34.9900\n",
       "75098            37.2700     29.9900\n",
       "75099            72.9300     54.9900\n",
       "75100            78.4800     63.5000\n",
       "75101           133.4900     69.9900\n",
       "75102           119.9800     69.9900\n",
       "75103            39.9800     34.9900\n",
       "75104            12.9400      7.9500\n",
       "75105            98.9600     49.9900\n",
       "75106             7.2800      4.9900\n",
       "75107            56.9700     34.9900\n",
       "75108             4.9900      4.9900\n",
       "75109            85.4800     63.5000\n",
       "75110            84.9200     54.9900\n",
       "75111            48.9700     34.9900\n",
       "75112            38.9800     29.9900\n",
       "75113           114.9600     49.9900\n",
       "75114            21.4900     21.4900\n",
       "75115            80.4700     54.9900\n",
       "75116             4.9900      4.9900\n",
       "75117            29.4800     24.4900\n",
       "75118           135.2300    120.0000\n",
       "75119            42.2800     35.0000\n",
       "75120            84.9600     53.9900\n",
       "75121            74.9800     35.0000\n",
       "75122            30.9700     21.9800\n",
       "75123           189.9700    159.0000\n",
       "\n",
       "[31465 rows x 2 columns]"
      ]
     },
     "execution_count": 20,
     "metadata": {},
     "output_type": "execute_result"
    }
   ],
   "source": [
    "detalle.groupby('SalesOrderID')['ItemTotal'].agg([sum, max])"
   ]
  },
  {
   "cell_type": "code",
   "execution_count": 21,
   "metadata": {
    "slideshow": {
     "slide_type": "skip"
    }
   },
   "outputs": [],
   "source": [
    "# detalle.groupby('SalesOrderID')['ItemTotal'].describe()"
   ]
  },
  {
   "cell_type": "markdown",
   "metadata": {
    "slideshow": {
     "slide_type": "slide"
    }
   },
   "source": [
    "#### Importamos los clientes"
   ]
  },
  {
   "cell_type": "code",
   "execution_count": 22,
   "metadata": {
    "slideshow": {
     "slide_type": "fragment"
    }
   },
   "outputs": [],
   "source": [
    "clientes = pd.read_csv('clientes.csv', sep='\\t')\n",
    "#clientes = pd.read_excel('data.xlsx', sheet_name='cliente')"
   ]
  },
  {
   "cell_type": "code",
   "execution_count": 23,
   "metadata": {
    "scrolled": true,
    "slideshow": {
     "slide_type": "fragment"
    }
   },
   "outputs": [
    {
     "data": {
      "text/html": [
       "<div>\n",
       "<style scoped>\n",
       "    .dataframe tbody tr th:only-of-type {\n",
       "        vertical-align: middle;\n",
       "    }\n",
       "\n",
       "    .dataframe tbody tr th {\n",
       "        vertical-align: top;\n",
       "    }\n",
       "\n",
       "    .dataframe thead th {\n",
       "        text-align: right;\n",
       "    }\n",
       "</style>\n",
       "<table border=\"1\" class=\"dataframe\">\n",
       "  <thead>\n",
       "    <tr style=\"text-align: right;\">\n",
       "      <th></th>\n",
       "      <th>CustomerID</th>\n",
       "      <th>CustomerName</th>\n",
       "    </tr>\n",
       "  </thead>\n",
       "  <tbody>\n",
       "    <tr>\n",
       "      <th>0</th>\n",
       "      <td>1</td>\n",
       "      <td>Customer 1</td>\n",
       "    </tr>\n",
       "    <tr>\n",
       "      <th>1</th>\n",
       "      <td>2</td>\n",
       "      <td>Customer 2</td>\n",
       "    </tr>\n",
       "    <tr>\n",
       "      <th>2</th>\n",
       "      <td>7</td>\n",
       "      <td>Customer 7</td>\n",
       "    </tr>\n",
       "    <tr>\n",
       "      <th>3</th>\n",
       "      <td>19</td>\n",
       "      <td>Customer 19</td>\n",
       "    </tr>\n",
       "    <tr>\n",
       "      <th>4</th>\n",
       "      <td>20</td>\n",
       "      <td>Customer 20</td>\n",
       "    </tr>\n",
       "  </tbody>\n",
       "</table>\n",
       "</div>"
      ],
      "text/plain": [
       "   CustomerID CustomerName\n",
       "0           1   Customer 1\n",
       "1           2   Customer 2\n",
       "2           7   Customer 7\n",
       "3          19  Customer 19\n",
       "4          20  Customer 20"
      ]
     },
     "execution_count": 23,
     "metadata": {},
     "output_type": "execute_result"
    }
   ],
   "source": [
    "clientes.head()"
   ]
  },
  {
   "cell_type": "code",
   "execution_count": 24,
   "metadata": {
    "slideshow": {
     "slide_type": "fragment"
    }
   },
   "outputs": [
    {
     "data": {
      "text/plain": [
       "(19820, 2)"
      ]
     },
     "execution_count": 24,
     "metadata": {},
     "output_type": "execute_result"
    }
   ],
   "source": [
    "clientes.shape"
   ]
  },
  {
   "cell_type": "code",
   "execution_count": 25,
   "metadata": {
    "slideshow": {
     "slide_type": "fragment"
    }
   },
   "outputs": [
    {
     "name": "stdout",
     "output_type": "stream",
     "text": [
      "<class 'pandas.core.frame.DataFrame'>\n",
      "RangeIndex: 19820 entries, 0 to 19819\n",
      "Data columns (total 2 columns):\n",
      "CustomerID      19820 non-null int64\n",
      "CustomerName    19820 non-null object\n",
      "dtypes: int64(1), object(1)\n",
      "memory usage: 309.8+ KB\n"
     ]
    }
   ],
   "source": [
    "clientes.info()"
   ]
  },
  {
   "cell_type": "markdown",
   "metadata": {
    "slideshow": {
     "slide_type": "slide"
    }
   },
   "source": [
    "#### Importamos los productos"
   ]
  },
  {
   "cell_type": "code",
   "execution_count": 26,
   "metadata": {
    "slideshow": {
     "slide_type": "fragment"
    }
   },
   "outputs": [],
   "source": [
    "productos = pd.read_csv('productos.csv', sep='\\t')\n",
    "#productos = pd.read_excel('data.xlsx', sheet_name='producto')"
   ]
  },
  {
   "cell_type": "code",
   "execution_count": 27,
   "metadata": {
    "slideshow": {
     "slide_type": "fragment"
    }
   },
   "outputs": [
    {
     "data": {
      "text/html": [
       "<div>\n",
       "<style scoped>\n",
       "    .dataframe tbody tr th:only-of-type {\n",
       "        vertical-align: middle;\n",
       "    }\n",
       "\n",
       "    .dataframe tbody tr th {\n",
       "        vertical-align: top;\n",
       "    }\n",
       "\n",
       "    .dataframe thead th {\n",
       "        text-align: right;\n",
       "    }\n",
       "</style>\n",
       "<table border=\"1\" class=\"dataframe\">\n",
       "  <thead>\n",
       "    <tr style=\"text-align: right;\">\n",
       "      <th></th>\n",
       "      <th>ProductID</th>\n",
       "      <th>ProductName</th>\n",
       "      <th>ProductSubCategory</th>\n",
       "      <th>ProductCategory</th>\n",
       "    </tr>\n",
       "  </thead>\n",
       "  <tbody>\n",
       "    <tr>\n",
       "      <th>0</th>\n",
       "      <td>680</td>\n",
       "      <td>HL Road Frame - Black, 58</td>\n",
       "      <td>Road Frames</td>\n",
       "      <td>Components</td>\n",
       "    </tr>\n",
       "    <tr>\n",
       "      <th>1</th>\n",
       "      <td>706</td>\n",
       "      <td>HL Road Frame - Red, 58</td>\n",
       "      <td>Road Frames</td>\n",
       "      <td>Components</td>\n",
       "    </tr>\n",
       "    <tr>\n",
       "      <th>2</th>\n",
       "      <td>707</td>\n",
       "      <td>Sport-100 Helmet, Red</td>\n",
       "      <td>Helmets</td>\n",
       "      <td>Accessories</td>\n",
       "    </tr>\n",
       "    <tr>\n",
       "      <th>3</th>\n",
       "      <td>708</td>\n",
       "      <td>Sport-100 Helmet, Black</td>\n",
       "      <td>Helmets</td>\n",
       "      <td>Accessories</td>\n",
       "    </tr>\n",
       "    <tr>\n",
       "      <th>4</th>\n",
       "      <td>709</td>\n",
       "      <td>Mountain Bike Socks, M</td>\n",
       "      <td>Socks</td>\n",
       "      <td>Clothing</td>\n",
       "    </tr>\n",
       "  </tbody>\n",
       "</table>\n",
       "</div>"
      ],
      "text/plain": [
       "   ProductID                ProductName ProductSubCategory ProductCategory\n",
       "0        680  HL Road Frame - Black, 58        Road Frames      Components\n",
       "1        706    HL Road Frame - Red, 58        Road Frames      Components\n",
       "2        707      Sport-100 Helmet, Red            Helmets     Accessories\n",
       "3        708    Sport-100 Helmet, Black            Helmets     Accessories\n",
       "4        709     Mountain Bike Socks, M              Socks        Clothing"
      ]
     },
     "execution_count": 27,
     "metadata": {},
     "output_type": "execute_result"
    }
   ],
   "source": [
    "productos.head()"
   ]
  },
  {
   "cell_type": "code",
   "execution_count": 28,
   "metadata": {
    "slideshow": {
     "slide_type": "fragment"
    }
   },
   "outputs": [
    {
     "data": {
      "text/plain": [
       "(295, 4)"
      ]
     },
     "execution_count": 28,
     "metadata": {},
     "output_type": "execute_result"
    }
   ],
   "source": [
    "productos.shape"
   ]
  },
  {
   "cell_type": "code",
   "execution_count": 29,
   "metadata": {
    "slideshow": {
     "slide_type": "fragment"
    }
   },
   "outputs": [
    {
     "name": "stdout",
     "output_type": "stream",
     "text": [
      "<class 'pandas.core.frame.DataFrame'>\n",
      "RangeIndex: 295 entries, 0 to 294\n",
      "Data columns (total 4 columns):\n",
      "ProductID             295 non-null int64\n",
      "ProductName           295 non-null object\n",
      "ProductSubCategory    295 non-null object\n",
      "ProductCategory       295 non-null object\n",
      "dtypes: int64(1), object(3)\n",
      "memory usage: 9.3+ KB\n"
     ]
    }
   ],
   "source": [
    "productos.info()"
   ]
  },
  {
   "cell_type": "markdown",
   "metadata": {
    "slideshow": {
     "slide_type": "slide"
    }
   },
   "source": [
    "### 7) Uniendo las tablas con 'merge'"
   ]
  },
  {
   "cell_type": "markdown",
   "metadata": {},
   "source": [
    "#### Utilizamos el método merge para unir la tabla **detalle** con la tabla  **encabezado** "
   ]
  },
  {
   "cell_type": "markdown",
   "metadata": {
    "slideshow": {
     "slide_type": "fragment"
    }
   },
   "source": [
    "Usamos la columna **SalesOrderID** para unir ambas tablas"
   ]
  },
  {
   "cell_type": "code",
   "execution_count": 30,
   "metadata": {
    "slideshow": {
     "slide_type": "fragment"
    }
   },
   "outputs": [],
   "source": [
    "ventas = detalle.merge(encabezado, left_on='SalesOrderID', right_on='SalesOrderID')"
   ]
  },
  {
   "cell_type": "code",
   "execution_count": 31,
   "metadata": {
    "slideshow": {
     "slide_type": "fragment"
    }
   },
   "outputs": [
    {
     "data": {
      "text/plain": [
       "(121317, 9)"
      ]
     },
     "execution_count": 31,
     "metadata": {},
     "output_type": "execute_result"
    }
   ],
   "source": [
    "ventas.shape"
   ]
  },
  {
   "cell_type": "code",
   "execution_count": 32,
   "metadata": {
    "slideshow": {
     "slide_type": "fragment"
    }
   },
   "outputs": [
    {
     "data": {
      "text/html": [
       "<div>\n",
       "<style scoped>\n",
       "    .dataframe tbody tr th:only-of-type {\n",
       "        vertical-align: middle;\n",
       "    }\n",
       "\n",
       "    .dataframe tbody tr th {\n",
       "        vertical-align: top;\n",
       "    }\n",
       "\n",
       "    .dataframe thead th {\n",
       "        text-align: right;\n",
       "    }\n",
       "</style>\n",
       "<table border=\"1\" class=\"dataframe\">\n",
       "  <thead>\n",
       "    <tr style=\"text-align: right;\">\n",
       "      <th></th>\n",
       "      <th>SalesOrderID</th>\n",
       "      <th>SalesOrderDetailID</th>\n",
       "      <th>ProductID</th>\n",
       "      <th>OrderQty</th>\n",
       "      <th>UnitPrice</th>\n",
       "      <th>UnitPriceDiscount</th>\n",
       "      <th>ItemTotal</th>\n",
       "      <th>OrderDate</th>\n",
       "      <th>CustomerID</th>\n",
       "    </tr>\n",
       "  </thead>\n",
       "  <tbody>\n",
       "    <tr>\n",
       "      <th>0</th>\n",
       "      <td>43659</td>\n",
       "      <td>1</td>\n",
       "      <td>776</td>\n",
       "      <td>1</td>\n",
       "      <td>2024.994</td>\n",
       "      <td>0.0</td>\n",
       "      <td>2024.994</td>\n",
       "      <td>31/5/2011</td>\n",
       "      <td>29825</td>\n",
       "    </tr>\n",
       "    <tr>\n",
       "      <th>1</th>\n",
       "      <td>43659</td>\n",
       "      <td>2</td>\n",
       "      <td>777</td>\n",
       "      <td>3</td>\n",
       "      <td>2024.994</td>\n",
       "      <td>0.0</td>\n",
       "      <td>6074.982</td>\n",
       "      <td>31/5/2011</td>\n",
       "      <td>29825</td>\n",
       "    </tr>\n",
       "    <tr>\n",
       "      <th>2</th>\n",
       "      <td>43659</td>\n",
       "      <td>3</td>\n",
       "      <td>778</td>\n",
       "      <td>1</td>\n",
       "      <td>2024.994</td>\n",
       "      <td>0.0</td>\n",
       "      <td>2024.994</td>\n",
       "      <td>31/5/2011</td>\n",
       "      <td>29825</td>\n",
       "    </tr>\n",
       "    <tr>\n",
       "      <th>3</th>\n",
       "      <td>43659</td>\n",
       "      <td>4</td>\n",
       "      <td>771</td>\n",
       "      <td>1</td>\n",
       "      <td>2039.994</td>\n",
       "      <td>0.0</td>\n",
       "      <td>2039.994</td>\n",
       "      <td>31/5/2011</td>\n",
       "      <td>29825</td>\n",
       "    </tr>\n",
       "    <tr>\n",
       "      <th>4</th>\n",
       "      <td>43659</td>\n",
       "      <td>5</td>\n",
       "      <td>772</td>\n",
       "      <td>1</td>\n",
       "      <td>2039.994</td>\n",
       "      <td>0.0</td>\n",
       "      <td>2039.994</td>\n",
       "      <td>31/5/2011</td>\n",
       "      <td>29825</td>\n",
       "    </tr>\n",
       "  </tbody>\n",
       "</table>\n",
       "</div>"
      ],
      "text/plain": [
       "   SalesOrderID  SalesOrderDetailID  ProductID  OrderQty  UnitPrice  \\\n",
       "0         43659                   1        776         1   2024.994   \n",
       "1         43659                   2        777         3   2024.994   \n",
       "2         43659                   3        778         1   2024.994   \n",
       "3         43659                   4        771         1   2039.994   \n",
       "4         43659                   5        772         1   2039.994   \n",
       "\n",
       "   UnitPriceDiscount  ItemTotal  OrderDate  CustomerID  \n",
       "0                0.0   2024.994  31/5/2011       29825  \n",
       "1                0.0   6074.982  31/5/2011       29825  \n",
       "2                0.0   2024.994  31/5/2011       29825  \n",
       "3                0.0   2039.994  31/5/2011       29825  \n",
       "4                0.0   2039.994  31/5/2011       29825  "
      ]
     },
     "execution_count": 32,
     "metadata": {},
     "output_type": "execute_result"
    }
   ],
   "source": [
    "ventas.head()"
   ]
  },
  {
   "cell_type": "markdown",
   "metadata": {
    "slideshow": {
     "slide_type": "slide"
    }
   },
   "source": [
    "Eliminamos el campo **SalesOrderDetailID** ya que no tiene valor, es un identificador de fila"
   ]
  },
  {
   "cell_type": "code",
   "execution_count": 33,
   "metadata": {
    "slideshow": {
     "slide_type": "fragment"
    }
   },
   "outputs": [],
   "source": [
    "ventas.drop(['SalesOrderDetailID'], axis=1, inplace=True)"
   ]
  },
  {
   "cell_type": "code",
   "execution_count": 34,
   "metadata": {
    "slideshow": {
     "slide_type": "fragment"
    }
   },
   "outputs": [
    {
     "data": {
      "text/html": [
       "<div>\n",
       "<style scoped>\n",
       "    .dataframe tbody tr th:only-of-type {\n",
       "        vertical-align: middle;\n",
       "    }\n",
       "\n",
       "    .dataframe tbody tr th {\n",
       "        vertical-align: top;\n",
       "    }\n",
       "\n",
       "    .dataframe thead th {\n",
       "        text-align: right;\n",
       "    }\n",
       "</style>\n",
       "<table border=\"1\" class=\"dataframe\">\n",
       "  <thead>\n",
       "    <tr style=\"text-align: right;\">\n",
       "      <th></th>\n",
       "      <th>SalesOrderID</th>\n",
       "      <th>ProductID</th>\n",
       "      <th>OrderQty</th>\n",
       "      <th>UnitPrice</th>\n",
       "      <th>UnitPriceDiscount</th>\n",
       "      <th>ItemTotal</th>\n",
       "      <th>OrderDate</th>\n",
       "      <th>CustomerID</th>\n",
       "    </tr>\n",
       "  </thead>\n",
       "  <tbody>\n",
       "    <tr>\n",
       "      <th>0</th>\n",
       "      <td>43659</td>\n",
       "      <td>776</td>\n",
       "      <td>1</td>\n",
       "      <td>2024.994</td>\n",
       "      <td>0.0</td>\n",
       "      <td>2024.994</td>\n",
       "      <td>31/5/2011</td>\n",
       "      <td>29825</td>\n",
       "    </tr>\n",
       "    <tr>\n",
       "      <th>1</th>\n",
       "      <td>43659</td>\n",
       "      <td>777</td>\n",
       "      <td>3</td>\n",
       "      <td>2024.994</td>\n",
       "      <td>0.0</td>\n",
       "      <td>6074.982</td>\n",
       "      <td>31/5/2011</td>\n",
       "      <td>29825</td>\n",
       "    </tr>\n",
       "    <tr>\n",
       "      <th>2</th>\n",
       "      <td>43659</td>\n",
       "      <td>778</td>\n",
       "      <td>1</td>\n",
       "      <td>2024.994</td>\n",
       "      <td>0.0</td>\n",
       "      <td>2024.994</td>\n",
       "      <td>31/5/2011</td>\n",
       "      <td>29825</td>\n",
       "    </tr>\n",
       "    <tr>\n",
       "      <th>3</th>\n",
       "      <td>43659</td>\n",
       "      <td>771</td>\n",
       "      <td>1</td>\n",
       "      <td>2039.994</td>\n",
       "      <td>0.0</td>\n",
       "      <td>2039.994</td>\n",
       "      <td>31/5/2011</td>\n",
       "      <td>29825</td>\n",
       "    </tr>\n",
       "    <tr>\n",
       "      <th>4</th>\n",
       "      <td>43659</td>\n",
       "      <td>772</td>\n",
       "      <td>1</td>\n",
       "      <td>2039.994</td>\n",
       "      <td>0.0</td>\n",
       "      <td>2039.994</td>\n",
       "      <td>31/5/2011</td>\n",
       "      <td>29825</td>\n",
       "    </tr>\n",
       "  </tbody>\n",
       "</table>\n",
       "</div>"
      ],
      "text/plain": [
       "   SalesOrderID  ProductID  OrderQty  UnitPrice  UnitPriceDiscount  ItemTotal  \\\n",
       "0         43659        776         1   2024.994                0.0   2024.994   \n",
       "1         43659        777         3   2024.994                0.0   6074.982   \n",
       "2         43659        778         1   2024.994                0.0   2024.994   \n",
       "3         43659        771         1   2039.994                0.0   2039.994   \n",
       "4         43659        772         1   2039.994                0.0   2039.994   \n",
       "\n",
       "   OrderDate  CustomerID  \n",
       "0  31/5/2011       29825  \n",
       "1  31/5/2011       29825  \n",
       "2  31/5/2011       29825  \n",
       "3  31/5/2011       29825  \n",
       "4  31/5/2011       29825  "
      ]
     },
     "execution_count": 34,
     "metadata": {},
     "output_type": "execute_result"
    }
   ],
   "source": [
    "ventas.head()"
   ]
  },
  {
   "cell_type": "markdown",
   "metadata": {
    "slideshow": {
     "slide_type": "slide"
    }
   },
   "source": [
    "#### Utilizamos el método merge para obtener el numero de cliente desde la tabla Encabezado"
   ]
  },
  {
   "cell_type": "code",
   "execution_count": 35,
   "metadata": {
    "slideshow": {
     "slide_type": "fragment"
    }
   },
   "outputs": [],
   "source": [
    "ventas = ventas.merge(clientes, left_on='CustomerID', right_on='CustomerID')"
   ]
  },
  {
   "cell_type": "code",
   "execution_count": 36,
   "metadata": {
    "slideshow": {
     "slide_type": "fragment"
    }
   },
   "outputs": [
    {
     "data": {
      "text/html": [
       "<div>\n",
       "<style scoped>\n",
       "    .dataframe tbody tr th:only-of-type {\n",
       "        vertical-align: middle;\n",
       "    }\n",
       "\n",
       "    .dataframe tbody tr th {\n",
       "        vertical-align: top;\n",
       "    }\n",
       "\n",
       "    .dataframe thead th {\n",
       "        text-align: right;\n",
       "    }\n",
       "</style>\n",
       "<table border=\"1\" class=\"dataframe\">\n",
       "  <thead>\n",
       "    <tr style=\"text-align: right;\">\n",
       "      <th></th>\n",
       "      <th>SalesOrderID</th>\n",
       "      <th>ProductID</th>\n",
       "      <th>OrderQty</th>\n",
       "      <th>UnitPrice</th>\n",
       "      <th>UnitPriceDiscount</th>\n",
       "      <th>ItemTotal</th>\n",
       "      <th>OrderDate</th>\n",
       "      <th>CustomerID</th>\n",
       "      <th>CustomerName</th>\n",
       "    </tr>\n",
       "  </thead>\n",
       "  <tbody>\n",
       "    <tr>\n",
       "      <th>0</th>\n",
       "      <td>43659</td>\n",
       "      <td>776</td>\n",
       "      <td>1</td>\n",
       "      <td>2024.994</td>\n",
       "      <td>0.0</td>\n",
       "      <td>2024.994</td>\n",
       "      <td>31/5/2011</td>\n",
       "      <td>29825</td>\n",
       "      <td>Customer 29825</td>\n",
       "    </tr>\n",
       "    <tr>\n",
       "      <th>1</th>\n",
       "      <td>43659</td>\n",
       "      <td>777</td>\n",
       "      <td>3</td>\n",
       "      <td>2024.994</td>\n",
       "      <td>0.0</td>\n",
       "      <td>6074.982</td>\n",
       "      <td>31/5/2011</td>\n",
       "      <td>29825</td>\n",
       "      <td>Customer 29825</td>\n",
       "    </tr>\n",
       "    <tr>\n",
       "      <th>2</th>\n",
       "      <td>43659</td>\n",
       "      <td>778</td>\n",
       "      <td>1</td>\n",
       "      <td>2024.994</td>\n",
       "      <td>0.0</td>\n",
       "      <td>2024.994</td>\n",
       "      <td>31/5/2011</td>\n",
       "      <td>29825</td>\n",
       "      <td>Customer 29825</td>\n",
       "    </tr>\n",
       "    <tr>\n",
       "      <th>3</th>\n",
       "      <td>43659</td>\n",
       "      <td>771</td>\n",
       "      <td>1</td>\n",
       "      <td>2039.994</td>\n",
       "      <td>0.0</td>\n",
       "      <td>2039.994</td>\n",
       "      <td>31/5/2011</td>\n",
       "      <td>29825</td>\n",
       "      <td>Customer 29825</td>\n",
       "    </tr>\n",
       "    <tr>\n",
       "      <th>4</th>\n",
       "      <td>43659</td>\n",
       "      <td>772</td>\n",
       "      <td>1</td>\n",
       "      <td>2039.994</td>\n",
       "      <td>0.0</td>\n",
       "      <td>2039.994</td>\n",
       "      <td>31/5/2011</td>\n",
       "      <td>29825</td>\n",
       "      <td>Customer 29825</td>\n",
       "    </tr>\n",
       "  </tbody>\n",
       "</table>\n",
       "</div>"
      ],
      "text/plain": [
       "   SalesOrderID  ProductID  OrderQty  UnitPrice  UnitPriceDiscount  ItemTotal  \\\n",
       "0         43659        776         1   2024.994                0.0   2024.994   \n",
       "1         43659        777         3   2024.994                0.0   6074.982   \n",
       "2         43659        778         1   2024.994                0.0   2024.994   \n",
       "3         43659        771         1   2039.994                0.0   2039.994   \n",
       "4         43659        772         1   2039.994                0.0   2039.994   \n",
       "\n",
       "   OrderDate  CustomerID    CustomerName  \n",
       "0  31/5/2011       29825  Customer 29825  \n",
       "1  31/5/2011       29825  Customer 29825  \n",
       "2  31/5/2011       29825  Customer 29825  \n",
       "3  31/5/2011       29825  Customer 29825  \n",
       "4  31/5/2011       29825  Customer 29825  "
      ]
     },
     "execution_count": 36,
     "metadata": {},
     "output_type": "execute_result"
    }
   ],
   "source": [
    "ventas.head()"
   ]
  },
  {
   "cell_type": "markdown",
   "metadata": {
    "slideshow": {
     "slide_type": "slide"
    }
   },
   "source": [
    "#### Traemos el nombre del producto y sus categorías"
   ]
  },
  {
   "cell_type": "code",
   "execution_count": 37,
   "metadata": {
    "slideshow": {
     "slide_type": "fragment"
    }
   },
   "outputs": [],
   "source": [
    "ventas = ventas.merge(productos, left_on='ProductID', right_on='ProductID')"
   ]
  },
  {
   "cell_type": "code",
   "execution_count": 38,
   "metadata": {
    "slideshow": {
     "slide_type": "fragment"
    }
   },
   "outputs": [
    {
     "data": {
      "text/plain": [
       "(121317, 12)"
      ]
     },
     "execution_count": 38,
     "metadata": {},
     "output_type": "execute_result"
    }
   ],
   "source": [
    "ventas.shape"
   ]
  },
  {
   "cell_type": "code",
   "execution_count": 39,
   "metadata": {
    "slideshow": {
     "slide_type": "fragment"
    }
   },
   "outputs": [
    {
     "data": {
      "text/html": [
       "<div>\n",
       "<style scoped>\n",
       "    .dataframe tbody tr th:only-of-type {\n",
       "        vertical-align: middle;\n",
       "    }\n",
       "\n",
       "    .dataframe tbody tr th {\n",
       "        vertical-align: top;\n",
       "    }\n",
       "\n",
       "    .dataframe thead th {\n",
       "        text-align: right;\n",
       "    }\n",
       "</style>\n",
       "<table border=\"1\" class=\"dataframe\">\n",
       "  <thead>\n",
       "    <tr style=\"text-align: right;\">\n",
       "      <th></th>\n",
       "      <th>SalesOrderID</th>\n",
       "      <th>ProductID</th>\n",
       "      <th>OrderQty</th>\n",
       "      <th>UnitPrice</th>\n",
       "      <th>UnitPriceDiscount</th>\n",
       "      <th>ItemTotal</th>\n",
       "      <th>OrderDate</th>\n",
       "      <th>CustomerID</th>\n",
       "      <th>CustomerName</th>\n",
       "      <th>ProductName</th>\n",
       "      <th>ProductSubCategory</th>\n",
       "      <th>ProductCategory</th>\n",
       "    </tr>\n",
       "  </thead>\n",
       "  <tbody>\n",
       "    <tr>\n",
       "      <th>0</th>\n",
       "      <td>43659</td>\n",
       "      <td>776</td>\n",
       "      <td>1</td>\n",
       "      <td>2024.994</td>\n",
       "      <td>0.0</td>\n",
       "      <td>2024.994</td>\n",
       "      <td>31/5/2011</td>\n",
       "      <td>29825</td>\n",
       "      <td>Customer 29825</td>\n",
       "      <td>Mountain-100 Black, 42</td>\n",
       "      <td>Mountain Bikes</td>\n",
       "      <td>Bikes</td>\n",
       "    </tr>\n",
       "    <tr>\n",
       "      <th>1</th>\n",
       "      <td>45061</td>\n",
       "      <td>776</td>\n",
       "      <td>2</td>\n",
       "      <td>2024.994</td>\n",
       "      <td>0.0</td>\n",
       "      <td>4049.988</td>\n",
       "      <td>1/12/2011</td>\n",
       "      <td>29825</td>\n",
       "      <td>Customer 29825</td>\n",
       "      <td>Mountain-100 Black, 42</td>\n",
       "      <td>Mountain Bikes</td>\n",
       "      <td>Bikes</td>\n",
       "    </tr>\n",
       "    <tr>\n",
       "      <th>2</th>\n",
       "      <td>43661</td>\n",
       "      <td>776</td>\n",
       "      <td>4</td>\n",
       "      <td>2024.994</td>\n",
       "      <td>0.0</td>\n",
       "      <td>8099.976</td>\n",
       "      <td>31/5/2011</td>\n",
       "      <td>29734</td>\n",
       "      <td>Customer 29734</td>\n",
       "      <td>Mountain-100 Black, 42</td>\n",
       "      <td>Mountain Bikes</td>\n",
       "      <td>Bikes</td>\n",
       "    </tr>\n",
       "    <tr>\n",
       "      <th>3</th>\n",
       "      <td>45038</td>\n",
       "      <td>776</td>\n",
       "      <td>2</td>\n",
       "      <td>2024.994</td>\n",
       "      <td>0.0</td>\n",
       "      <td>4049.988</td>\n",
       "      <td>1/12/2011</td>\n",
       "      <td>29734</td>\n",
       "      <td>Customer 29734</td>\n",
       "      <td>Mountain-100 Black, 42</td>\n",
       "      <td>Mountain Bikes</td>\n",
       "      <td>Bikes</td>\n",
       "    </tr>\n",
       "    <tr>\n",
       "      <th>4</th>\n",
       "      <td>45780</td>\n",
       "      <td>776</td>\n",
       "      <td>2</td>\n",
       "      <td>2024.994</td>\n",
       "      <td>0.0</td>\n",
       "      <td>4049.988</td>\n",
       "      <td>29/2/2012</td>\n",
       "      <td>29734</td>\n",
       "      <td>Customer 29734</td>\n",
       "      <td>Mountain-100 Black, 42</td>\n",
       "      <td>Mountain Bikes</td>\n",
       "      <td>Bikes</td>\n",
       "    </tr>\n",
       "  </tbody>\n",
       "</table>\n",
       "</div>"
      ],
      "text/plain": [
       "   SalesOrderID  ProductID  OrderQty  UnitPrice  UnitPriceDiscount  ItemTotal  \\\n",
       "0         43659        776         1   2024.994                0.0   2024.994   \n",
       "1         45061        776         2   2024.994                0.0   4049.988   \n",
       "2         43661        776         4   2024.994                0.0   8099.976   \n",
       "3         45038        776         2   2024.994                0.0   4049.988   \n",
       "4         45780        776         2   2024.994                0.0   4049.988   \n",
       "\n",
       "   OrderDate  CustomerID    CustomerName             ProductName  \\\n",
       "0  31/5/2011       29825  Customer 29825  Mountain-100 Black, 42   \n",
       "1  1/12/2011       29825  Customer 29825  Mountain-100 Black, 42   \n",
       "2  31/5/2011       29734  Customer 29734  Mountain-100 Black, 42   \n",
       "3  1/12/2011       29734  Customer 29734  Mountain-100 Black, 42   \n",
       "4  29/2/2012       29734  Customer 29734  Mountain-100 Black, 42   \n",
       "\n",
       "  ProductSubCategory ProductCategory  \n",
       "0     Mountain Bikes           Bikes  \n",
       "1     Mountain Bikes           Bikes  \n",
       "2     Mountain Bikes           Bikes  \n",
       "3     Mountain Bikes           Bikes  \n",
       "4     Mountain Bikes           Bikes  "
      ]
     },
     "execution_count": 39,
     "metadata": {},
     "output_type": "execute_result"
    }
   ],
   "source": [
    "ventas.head()"
   ]
  },
  {
   "cell_type": "markdown",
   "metadata": {
    "slideshow": {
     "slide_type": "slide"
    }
   },
   "source": [
    "### 8) Creación de Pivot Table con Pandas"
   ]
  },
  {
   "cell_type": "markdown",
   "metadata": {
    "slideshow": {
     "slide_type": "fragment"
    }
   },
   "source": [
    "La función de agregación por defecto es la media"
   ]
  },
  {
   "cell_type": "code",
   "execution_count": 40,
   "metadata": {
    "slideshow": {
     "slide_type": "fragment"
    }
   },
   "outputs": [
    {
     "data": {
      "text/html": [
       "<div>\n",
       "<style scoped>\n",
       "    .dataframe tbody tr th:only-of-type {\n",
       "        vertical-align: middle;\n",
       "    }\n",
       "\n",
       "    .dataframe tbody tr th {\n",
       "        vertical-align: top;\n",
       "    }\n",
       "\n",
       "    .dataframe thead th {\n",
       "        text-align: right;\n",
       "    }\n",
       "</style>\n",
       "<table border=\"1\" class=\"dataframe\">\n",
       "  <thead>\n",
       "    <tr style=\"text-align: right;\">\n",
       "      <th></th>\n",
       "      <th>CustomerID</th>\n",
       "      <th>ItemTotal</th>\n",
       "      <th>OrderQty</th>\n",
       "      <th>ProductID</th>\n",
       "      <th>SalesOrderID</th>\n",
       "      <th>UnitPrice</th>\n",
       "      <th>UnitPriceDiscount</th>\n",
       "    </tr>\n",
       "    <tr>\n",
       "      <th>ProductCategory</th>\n",
       "      <th></th>\n",
       "      <th></th>\n",
       "      <th></th>\n",
       "      <th></th>\n",
       "      <th></th>\n",
       "      <th></th>\n",
       "      <th></th>\n",
       "    </tr>\n",
       "  </thead>\n",
       "  <tbody>\n",
       "    <tr>\n",
       "      <th>Accessories</th>\n",
       "      <td>20141.891052</td>\n",
       "      <td>30.880053</td>\n",
       "      <td>1.503423</td>\n",
       "      <td>854.514638</td>\n",
       "      <td>62173.679492</td>\n",
       "      <td>19.694542</td>\n",
       "      <td>0.000815</td>\n",
       "    </tr>\n",
       "    <tr>\n",
       "      <th>Bikes</th>\n",
       "      <td>25717.643102</td>\n",
       "      <td>2364.446871</td>\n",
       "      <td>2.254952</td>\n",
       "      <td>846.652544</td>\n",
       "      <td>55043.685769</td>\n",
       "      <td>1254.661543</td>\n",
       "      <td>0.006593</td>\n",
       "    </tr>\n",
       "    <tr>\n",
       "      <th>Clothing</th>\n",
       "      <td>25093.912172</td>\n",
       "      <td>99.118562</td>\n",
       "      <td>3.443489</td>\n",
       "      <td>809.426007</td>\n",
       "      <td>57806.260447</td>\n",
       "      <td>32.105126</td>\n",
       "      <td>0.002027</td>\n",
       "    </tr>\n",
       "    <tr>\n",
       "      <th>Components</th>\n",
       "      <td>29813.438229</td>\n",
       "      <td>631.222232</td>\n",
       "      <td>2.622954</td>\n",
       "      <td>839.667879</td>\n",
       "      <td>54235.683923</td>\n",
       "      <td>251.376475</td>\n",
       "      <td>0.000106</td>\n",
       "    </tr>\n",
       "  </tbody>\n",
       "</table>\n",
       "</div>"
      ],
      "text/plain": [
       "                   CustomerID    ItemTotal  OrderQty   ProductID  \\\n",
       "ProductCategory                                                    \n",
       "Accessories      20141.891052    30.880053  1.503423  854.514638   \n",
       "Bikes            25717.643102  2364.446871  2.254952  846.652544   \n",
       "Clothing         25093.912172    99.118562  3.443489  809.426007   \n",
       "Components       29813.438229   631.222232  2.622954  839.667879   \n",
       "\n",
       "                 SalesOrderID    UnitPrice  UnitPriceDiscount  \n",
       "ProductCategory                                                \n",
       "Accessories      62173.679492    19.694542           0.000815  \n",
       "Bikes            55043.685769  1254.661543           0.006593  \n",
       "Clothing         57806.260447    32.105126           0.002027  \n",
       "Components       54235.683923   251.376475           0.000106  "
      ]
     },
     "execution_count": 40,
     "metadata": {},
     "output_type": "execute_result"
    }
   ],
   "source": [
    "pd.pivot_table(ventas, index=[\"ProductCategory\"])"
   ]
  },
  {
   "cell_type": "markdown",
   "metadata": {
    "slideshow": {
     "slide_type": "slide"
    }
   },
   "source": [
    "Acá ajustamos la cantidad de columnas, el formato y la función de agregación"
   ]
  },
  {
   "cell_type": "code",
   "execution_count": 41,
   "metadata": {
    "slideshow": {
     "slide_type": "fragment"
    }
   },
   "outputs": [
    {
     "data": {
      "text/html": [
       "<div>\n",
       "<style scoped>\n",
       "    .dataframe tbody tr th:only-of-type {\n",
       "        vertical-align: middle;\n",
       "    }\n",
       "\n",
       "    .dataframe tbody tr th {\n",
       "        vertical-align: top;\n",
       "    }\n",
       "\n",
       "    .dataframe thead th {\n",
       "        text-align: right;\n",
       "    }\n",
       "</style>\n",
       "<table border=\"1\" class=\"dataframe\">\n",
       "  <thead>\n",
       "    <tr style=\"text-align: right;\">\n",
       "      <th></th>\n",
       "      <th>ItemTotal</th>\n",
       "    </tr>\n",
       "    <tr>\n",
       "      <th>ProductCategory</th>\n",
       "      <th></th>\n",
       "    </tr>\n",
       "  </thead>\n",
       "  <tbody>\n",
       "    <tr>\n",
       "      <th>Accessories</th>\n",
       "      <td>$1,272,073</td>\n",
       "    </tr>\n",
       "    <tr>\n",
       "      <th>Bikes</th>\n",
       "      <td>$94,651,173</td>\n",
       "    </tr>\n",
       "    <tr>\n",
       "      <th>Clothing</th>\n",
       "      <td>$2,120,543</td>\n",
       "    </tr>\n",
       "    <tr>\n",
       "      <th>Components</th>\n",
       "      <td>$11,802,593</td>\n",
       "    </tr>\n",
       "  </tbody>\n",
       "</table>\n",
       "</div>"
      ],
      "text/plain": [
       "                  ItemTotal\n",
       "ProductCategory            \n",
       "Accessories      $1,272,073\n",
       "Bikes           $94,651,173\n",
       "Clothing         $2,120,543\n",
       "Components      $11,802,593"
      ]
     },
     "execution_count": 41,
     "metadata": {},
     "output_type": "execute_result"
    }
   ],
   "source": [
    "pd.options.display.float_format = '${:,.0f}'.format\n",
    "\n",
    "pivot = pd.pivot_table(ventas, \n",
    "                       index=[\"ProductCategory\"],\n",
    "                       values=[\"ItemTotal\"],\n",
    "                       aggfunc=sum)\n",
    "pivot"
   ]
  },
  {
   "cell_type": "markdown",
   "metadata": {
    "slideshow": {
     "slide_type": "fragment"
    }
   },
   "source": [
    "También podemos filtrar la pivot table"
   ]
  },
  {
   "cell_type": "code",
   "execution_count": 42,
   "metadata": {
    "slideshow": {
     "slide_type": "fragment"
    }
   },
   "outputs": [
    {
     "data": {
      "text/html": [
       "<div>\n",
       "<style scoped>\n",
       "    .dataframe tbody tr th:only-of-type {\n",
       "        vertical-align: middle;\n",
       "    }\n",
       "\n",
       "    .dataframe tbody tr th {\n",
       "        vertical-align: top;\n",
       "    }\n",
       "\n",
       "    .dataframe thead th {\n",
       "        text-align: right;\n",
       "    }\n",
       "</style>\n",
       "<table border=\"1\" class=\"dataframe\">\n",
       "  <thead>\n",
       "    <tr style=\"text-align: right;\">\n",
       "      <th></th>\n",
       "      <th>ItemTotal</th>\n",
       "    </tr>\n",
       "    <tr>\n",
       "      <th>ProductCategory</th>\n",
       "      <th></th>\n",
       "    </tr>\n",
       "  </thead>\n",
       "  <tbody>\n",
       "    <tr>\n",
       "      <th>Bikes</th>\n",
       "      <td>$94,651,173</td>\n",
       "    </tr>\n",
       "  </tbody>\n",
       "</table>\n",
       "</div>"
      ],
      "text/plain": [
       "                  ItemTotal\n",
       "ProductCategory            \n",
       "Bikes           $94,651,173"
      ]
     },
     "execution_count": 42,
     "metadata": {},
     "output_type": "execute_result"
    }
   ],
   "source": [
    "pivot.query('ProductCategory == [\"Bikes\"]')"
   ]
  },
  {
   "cell_type": "markdown",
   "metadata": {
    "slideshow": {
     "slide_type": "slide"
    }
   },
   "source": [
    "Ahora configuramos las columnas"
   ]
  },
  {
   "cell_type": "code",
   "execution_count": 43,
   "metadata": {
    "slideshow": {
     "slide_type": "fragment"
    }
   },
   "outputs": [
    {
     "data": {
      "text/html": [
       "<div>\n",
       "<style scoped>\n",
       "    .dataframe tbody tr th:only-of-type {\n",
       "        vertical-align: middle;\n",
       "    }\n",
       "\n",
       "    .dataframe tbody tr th {\n",
       "        vertical-align: top;\n",
       "    }\n",
       "\n",
       "    .dataframe thead tr th {\n",
       "        text-align: left;\n",
       "    }\n",
       "\n",
       "    .dataframe thead tr:last-of-type th {\n",
       "        text-align: right;\n",
       "    }\n",
       "</style>\n",
       "<table border=\"1\" class=\"dataframe\">\n",
       "  <thead>\n",
       "    <tr>\n",
       "      <th></th>\n",
       "      <th colspan=\"21\" halign=\"left\">ItemTotal</th>\n",
       "    </tr>\n",
       "    <tr>\n",
       "      <th>ProductSubCategory</th>\n",
       "      <th>Bib-Shorts</th>\n",
       "      <th>Bike Racks</th>\n",
       "      <th>Bike Stands</th>\n",
       "      <th>Bottles and Cages</th>\n",
       "      <th>Bottom Brackets</th>\n",
       "      <th>Brakes</th>\n",
       "      <th>Caps</th>\n",
       "      <th>Chains</th>\n",
       "      <th>Cleaners</th>\n",
       "      <th>Cranksets</th>\n",
       "      <th>...</th>\n",
       "      <th>Road Frames</th>\n",
       "      <th>Saddles</th>\n",
       "      <th>Shorts</th>\n",
       "      <th>Socks</th>\n",
       "      <th>Tights</th>\n",
       "      <th>Tires and Tubes</th>\n",
       "      <th>Touring Bikes</th>\n",
       "      <th>Touring Frames</th>\n",
       "      <th>Vests</th>\n",
       "      <th>Wheels</th>\n",
       "    </tr>\n",
       "    <tr>\n",
       "      <th>ProductCategory</th>\n",
       "      <th></th>\n",
       "      <th></th>\n",
       "      <th></th>\n",
       "      <th></th>\n",
       "      <th></th>\n",
       "      <th></th>\n",
       "      <th></th>\n",
       "      <th></th>\n",
       "      <th></th>\n",
       "      <th></th>\n",
       "      <th></th>\n",
       "      <th></th>\n",
       "      <th></th>\n",
       "      <th></th>\n",
       "      <th></th>\n",
       "      <th></th>\n",
       "      <th></th>\n",
       "      <th></th>\n",
       "      <th></th>\n",
       "      <th></th>\n",
       "      <th></th>\n",
       "    </tr>\n",
       "  </thead>\n",
       "  <tbody>\n",
       "    <tr>\n",
       "      <th>Accessories</th>\n",
       "      <td>$nan</td>\n",
       "      <td>$237,096</td>\n",
       "      <td>$39,591</td>\n",
       "      <td>$64,275</td>\n",
       "      <td>$nan</td>\n",
       "      <td>$nan</td>\n",
       "      <td>$nan</td>\n",
       "      <td>$nan</td>\n",
       "      <td>$18,407</td>\n",
       "      <td>$nan</td>\n",
       "      <td>...</td>\n",
       "      <td>$nan</td>\n",
       "      <td>$nan</td>\n",
       "      <td>$nan</td>\n",
       "      <td>$nan</td>\n",
       "      <td>$nan</td>\n",
       "      <td>$246,455</td>\n",
       "      <td>$nan</td>\n",
       "      <td>$nan</td>\n",
       "      <td>$nan</td>\n",
       "      <td>$nan</td>\n",
       "    </tr>\n",
       "    <tr>\n",
       "      <th>Bikes</th>\n",
       "      <td>$nan</td>\n",
       "      <td>$nan</td>\n",
       "      <td>$nan</td>\n",
       "      <td>$nan</td>\n",
       "      <td>$nan</td>\n",
       "      <td>$nan</td>\n",
       "      <td>$nan</td>\n",
       "      <td>$nan</td>\n",
       "      <td>$nan</td>\n",
       "      <td>$nan</td>\n",
       "      <td>...</td>\n",
       "      <td>$nan</td>\n",
       "      <td>$nan</td>\n",
       "      <td>$nan</td>\n",
       "      <td>$nan</td>\n",
       "      <td>$nan</td>\n",
       "      <td>$nan</td>\n",
       "      <td>$14,296,291</td>\n",
       "      <td>$nan</td>\n",
       "      <td>$nan</td>\n",
       "      <td>$nan</td>\n",
       "    </tr>\n",
       "    <tr>\n",
       "      <th>Clothing</th>\n",
       "      <td>$167,559</td>\n",
       "      <td>$nan</td>\n",
       "      <td>$nan</td>\n",
       "      <td>$nan</td>\n",
       "      <td>$nan</td>\n",
       "      <td>$nan</td>\n",
       "      <td>$51,229</td>\n",
       "      <td>$nan</td>\n",
       "      <td>$nan</td>\n",
       "      <td>$nan</td>\n",
       "      <td>...</td>\n",
       "      <td>$nan</td>\n",
       "      <td>$nan</td>\n",
       "      <td>$413,601</td>\n",
       "      <td>$29,745</td>\n",
       "      <td>$203,149</td>\n",
       "      <td>$nan</td>\n",
       "      <td>$nan</td>\n",
       "      <td>$nan</td>\n",
       "      <td>$259,488</td>\n",
       "      <td>$nan</td>\n",
       "    </tr>\n",
       "    <tr>\n",
       "      <th>Components</th>\n",
       "      <td>$nan</td>\n",
       "      <td>$nan</td>\n",
       "      <td>$nan</td>\n",
       "      <td>$nan</td>\n",
       "      <td>$51,826</td>\n",
       "      <td>$66,019</td>\n",
       "      <td>$nan</td>\n",
       "      <td>$9,378</td>\n",
       "      <td>$nan</td>\n",
       "      <td>$203,943</td>\n",
       "      <td>...</td>\n",
       "      <td>$3,851,351</td>\n",
       "      <td>$55,829</td>\n",
       "      <td>$nan</td>\n",
       "      <td>$nan</td>\n",
       "      <td>$nan</td>\n",
       "      <td>$nan</td>\n",
       "      <td>$nan</td>\n",
       "      <td>$1,642,328</td>\n",
       "      <td>$nan</td>\n",
       "      <td>$680,831</td>\n",
       "    </tr>\n",
       "  </tbody>\n",
       "</table>\n",
       "<p>4 rows × 35 columns</p>\n",
       "</div>"
      ],
      "text/plain": [
       "                    ItemTotal                                           \\\n",
       "ProductSubCategory Bib-Shorts Bike Racks Bike Stands Bottles and Cages   \n",
       "ProductCategory                                                          \n",
       "Accessories              $nan   $237,096     $39,591           $64,275   \n",
       "Bikes                    $nan       $nan        $nan              $nan   \n",
       "Clothing             $167,559       $nan        $nan              $nan   \n",
       "Components               $nan       $nan        $nan              $nan   \n",
       "\n",
       "                                                                              \\\n",
       "ProductSubCategory Bottom Brackets  Brakes    Caps Chains Cleaners Cranksets   \n",
       "ProductCategory                                                                \n",
       "Accessories                   $nan    $nan    $nan   $nan  $18,407      $nan   \n",
       "Bikes                         $nan    $nan    $nan   $nan     $nan      $nan   \n",
       "Clothing                      $nan    $nan $51,229   $nan     $nan      $nan   \n",
       "Components                 $51,826 $66,019    $nan $9,378     $nan  $203,943   \n",
       "\n",
       "                    ...                                                \\\n",
       "ProductSubCategory  ... Road Frames Saddles   Shorts   Socks   Tights   \n",
       "ProductCategory     ...                                                 \n",
       "Accessories         ...        $nan    $nan     $nan    $nan     $nan   \n",
       "Bikes               ...        $nan    $nan     $nan    $nan     $nan   \n",
       "Clothing            ...        $nan    $nan $413,601 $29,745 $203,149   \n",
       "Components          ...  $3,851,351 $55,829     $nan    $nan     $nan   \n",
       "\n",
       "                                                                          \\\n",
       "ProductSubCategory Tires and Tubes Touring Bikes Touring Frames    Vests   \n",
       "ProductCategory                                                            \n",
       "Accessories               $246,455          $nan           $nan     $nan   \n",
       "Bikes                         $nan   $14,296,291           $nan     $nan   \n",
       "Clothing                      $nan          $nan           $nan $259,488   \n",
       "Components                    $nan          $nan     $1,642,328     $nan   \n",
       "\n",
       "                             \n",
       "ProductSubCategory   Wheels  \n",
       "ProductCategory              \n",
       "Accessories            $nan  \n",
       "Bikes                  $nan  \n",
       "Clothing               $nan  \n",
       "Components         $680,831  \n",
       "\n",
       "[4 rows x 35 columns]"
      ]
     },
     "execution_count": 43,
     "metadata": {},
     "output_type": "execute_result"
    }
   ],
   "source": [
    "pd.pivot_table(ventas,\n",
    "               index=[\"ProductCategory\"], \n",
    "               columns= ['ProductSubCategory'],\n",
    "               values=[\"ItemTotal\"],\n",
    "               aggfunc=sum)"
   ]
  },
  {
   "cell_type": "markdown",
   "metadata": {
    "slideshow": {
     "slide_type": "slide"
    }
   },
   "source": [
    "Y reemplazamos los $nan con 0"
   ]
  },
  {
   "cell_type": "code",
   "execution_count": 44,
   "metadata": {
    "slideshow": {
     "slide_type": "fragment"
    }
   },
   "outputs": [
    {
     "data": {
      "text/html": [
       "<div>\n",
       "<style scoped>\n",
       "    .dataframe tbody tr th:only-of-type {\n",
       "        vertical-align: middle;\n",
       "    }\n",
       "\n",
       "    .dataframe tbody tr th {\n",
       "        vertical-align: top;\n",
       "    }\n",
       "\n",
       "    .dataframe thead tr th {\n",
       "        text-align: left;\n",
       "    }\n",
       "\n",
       "    .dataframe thead tr:last-of-type th {\n",
       "        text-align: right;\n",
       "    }\n",
       "</style>\n",
       "<table border=\"1\" class=\"dataframe\">\n",
       "  <thead>\n",
       "    <tr>\n",
       "      <th></th>\n",
       "      <th colspan=\"21\" halign=\"left\">ItemTotal</th>\n",
       "    </tr>\n",
       "    <tr>\n",
       "      <th>ProductSubCategory</th>\n",
       "      <th>Bib-Shorts</th>\n",
       "      <th>Bike Racks</th>\n",
       "      <th>Bike Stands</th>\n",
       "      <th>Bottles and Cages</th>\n",
       "      <th>Bottom Brackets</th>\n",
       "      <th>Brakes</th>\n",
       "      <th>Caps</th>\n",
       "      <th>Chains</th>\n",
       "      <th>Cleaners</th>\n",
       "      <th>Cranksets</th>\n",
       "      <th>...</th>\n",
       "      <th>Road Frames</th>\n",
       "      <th>Saddles</th>\n",
       "      <th>Shorts</th>\n",
       "      <th>Socks</th>\n",
       "      <th>Tights</th>\n",
       "      <th>Tires and Tubes</th>\n",
       "      <th>Touring Bikes</th>\n",
       "      <th>Touring Frames</th>\n",
       "      <th>Vests</th>\n",
       "      <th>Wheels</th>\n",
       "    </tr>\n",
       "    <tr>\n",
       "      <th>ProductCategory</th>\n",
       "      <th></th>\n",
       "      <th></th>\n",
       "      <th></th>\n",
       "      <th></th>\n",
       "      <th></th>\n",
       "      <th></th>\n",
       "      <th></th>\n",
       "      <th></th>\n",
       "      <th></th>\n",
       "      <th></th>\n",
       "      <th></th>\n",
       "      <th></th>\n",
       "      <th></th>\n",
       "      <th></th>\n",
       "      <th></th>\n",
       "      <th></th>\n",
       "      <th></th>\n",
       "      <th></th>\n",
       "      <th></th>\n",
       "      <th></th>\n",
       "      <th></th>\n",
       "    </tr>\n",
       "  </thead>\n",
       "  <tbody>\n",
       "    <tr>\n",
       "      <th>Accessories</th>\n",
       "      <td>$0</td>\n",
       "      <td>$237,096</td>\n",
       "      <td>39591</td>\n",
       "      <td>$64,275</td>\n",
       "      <td>$0</td>\n",
       "      <td>$0</td>\n",
       "      <td>$0</td>\n",
       "      <td>$0</td>\n",
       "      <td>$18,407</td>\n",
       "      <td>$0</td>\n",
       "      <td>...</td>\n",
       "      <td>$0</td>\n",
       "      <td>$0</td>\n",
       "      <td>$0</td>\n",
       "      <td>$0</td>\n",
       "      <td>$0</td>\n",
       "      <td>$246,455</td>\n",
       "      <td>$0</td>\n",
       "      <td>$0</td>\n",
       "      <td>$0</td>\n",
       "      <td>$0</td>\n",
       "    </tr>\n",
       "    <tr>\n",
       "      <th>Bikes</th>\n",
       "      <td>$0</td>\n",
       "      <td>$0</td>\n",
       "      <td>0</td>\n",
       "      <td>$0</td>\n",
       "      <td>$0</td>\n",
       "      <td>$0</td>\n",
       "      <td>$0</td>\n",
       "      <td>$0</td>\n",
       "      <td>$0</td>\n",
       "      <td>$0</td>\n",
       "      <td>...</td>\n",
       "      <td>$0</td>\n",
       "      <td>$0</td>\n",
       "      <td>$0</td>\n",
       "      <td>$0</td>\n",
       "      <td>$0</td>\n",
       "      <td>$0</td>\n",
       "      <td>$14,296,291</td>\n",
       "      <td>$0</td>\n",
       "      <td>$0</td>\n",
       "      <td>$0</td>\n",
       "    </tr>\n",
       "    <tr>\n",
       "      <th>Clothing</th>\n",
       "      <td>$167,559</td>\n",
       "      <td>$0</td>\n",
       "      <td>0</td>\n",
       "      <td>$0</td>\n",
       "      <td>$0</td>\n",
       "      <td>$0</td>\n",
       "      <td>$51,229</td>\n",
       "      <td>$0</td>\n",
       "      <td>$0</td>\n",
       "      <td>$0</td>\n",
       "      <td>...</td>\n",
       "      <td>$0</td>\n",
       "      <td>$0</td>\n",
       "      <td>$413,601</td>\n",
       "      <td>$29,745</td>\n",
       "      <td>$203,149</td>\n",
       "      <td>$0</td>\n",
       "      <td>$0</td>\n",
       "      <td>$0</td>\n",
       "      <td>$259,488</td>\n",
       "      <td>$0</td>\n",
       "    </tr>\n",
       "    <tr>\n",
       "      <th>Components</th>\n",
       "      <td>$0</td>\n",
       "      <td>$0</td>\n",
       "      <td>0</td>\n",
       "      <td>$0</td>\n",
       "      <td>$51,826</td>\n",
       "      <td>$66,019</td>\n",
       "      <td>$0</td>\n",
       "      <td>$9,378</td>\n",
       "      <td>$0</td>\n",
       "      <td>$203,943</td>\n",
       "      <td>...</td>\n",
       "      <td>$3,851,351</td>\n",
       "      <td>$55,829</td>\n",
       "      <td>$0</td>\n",
       "      <td>$0</td>\n",
       "      <td>$0</td>\n",
       "      <td>$0</td>\n",
       "      <td>$0</td>\n",
       "      <td>$1,642,328</td>\n",
       "      <td>$0</td>\n",
       "      <td>$680,831</td>\n",
       "    </tr>\n",
       "  </tbody>\n",
       "</table>\n",
       "<p>4 rows × 35 columns</p>\n",
       "</div>"
      ],
      "text/plain": [
       "                    ItemTotal                                           \\\n",
       "ProductSubCategory Bib-Shorts Bike Racks Bike Stands Bottles and Cages   \n",
       "ProductCategory                                                          \n",
       "Accessories                $0   $237,096       39591           $64,275   \n",
       "Bikes                      $0         $0           0                $0   \n",
       "Clothing             $167,559         $0           0                $0   \n",
       "Components                 $0         $0           0                $0   \n",
       "\n",
       "                                                                              \\\n",
       "ProductSubCategory Bottom Brackets  Brakes    Caps Chains Cleaners Cranksets   \n",
       "ProductCategory                                                                \n",
       "Accessories                     $0      $0      $0     $0  $18,407        $0   \n",
       "Bikes                           $0      $0      $0     $0       $0        $0   \n",
       "Clothing                        $0      $0 $51,229     $0       $0        $0   \n",
       "Components                 $51,826 $66,019      $0 $9,378       $0  $203,943   \n",
       "\n",
       "                    ...                                                \\\n",
       "ProductSubCategory  ... Road Frames Saddles   Shorts   Socks   Tights   \n",
       "ProductCategory     ...                                                 \n",
       "Accessories         ...          $0      $0       $0      $0       $0   \n",
       "Bikes               ...          $0      $0       $0      $0       $0   \n",
       "Clothing            ...          $0      $0 $413,601 $29,745 $203,149   \n",
       "Components          ...  $3,851,351 $55,829       $0      $0       $0   \n",
       "\n",
       "                                                                          \\\n",
       "ProductSubCategory Tires and Tubes Touring Bikes Touring Frames    Vests   \n",
       "ProductCategory                                                            \n",
       "Accessories               $246,455            $0             $0       $0   \n",
       "Bikes                           $0   $14,296,291             $0       $0   \n",
       "Clothing                        $0            $0             $0 $259,488   \n",
       "Components                      $0            $0     $1,642,328       $0   \n",
       "\n",
       "                             \n",
       "ProductSubCategory   Wheels  \n",
       "ProductCategory              \n",
       "Accessories              $0  \n",
       "Bikes                    $0  \n",
       "Clothing                 $0  \n",
       "Components         $680,831  \n",
       "\n",
       "[4 rows x 35 columns]"
      ]
     },
     "execution_count": 44,
     "metadata": {},
     "output_type": "execute_result"
    }
   ],
   "source": [
    "pd.pivot_table(ventas,\n",
    "               index=[\"ProductCategory\"], \n",
    "               columns= ['ProductSubCategory'],\n",
    "               values=[\"ItemTotal\"], \n",
    "               fill_value=0,\n",
    "               aggfunc=sum)"
   ]
  },
  {
   "cell_type": "markdown",
   "metadata": {
    "slideshow": {
     "slide_type": "slide"
    }
   },
   "source": [
    "### 9) Leyendo información con formato irregular"
   ]
  },
  {
   "cell_type": "code",
   "execution_count": 45,
   "metadata": {
    "slideshow": {
     "slide_type": "fragment"
    }
   },
   "outputs": [
    {
     "data": {
      "text/html": [
       "<div>\n",
       "<style scoped>\n",
       "    .dataframe tbody tr th:only-of-type {\n",
       "        vertical-align: middle;\n",
       "    }\n",
       "\n",
       "    .dataframe tbody tr th {\n",
       "        vertical-align: top;\n",
       "    }\n",
       "\n",
       "    .dataframe thead th {\n",
       "        text-align: right;\n",
       "    }\n",
       "</style>\n",
       "<table border=\"1\" class=\"dataframe\">\n",
       "  <thead>\n",
       "    <tr style=\"text-align: right;\">\n",
       "      <th></th>\n",
       "      <th>Total population is based on the de facto definition of population, which counts all residents regardless of legal status or citizenship--except for refugees not permanently settled in the country of asylum, who are generally considered part of the population of their country of origin. The values shown are midyear estimates.</th>\n",
       "      <th>Unnamed: 1</th>\n",
       "      <th>Unnamed: 2</th>\n",
       "      <th>Unnamed: 3</th>\n",
       "      <th>Unnamed: 4</th>\n",
       "      <th>Unnamed: 5</th>\n",
       "      <th>Unnamed: 6</th>\n",
       "      <th>Unnamed: 7</th>\n",
       "      <th>Unnamed: 8</th>\n",
       "      <th>Unnamed: 9</th>\n",
       "      <th>Unnamed: 10</th>\n",
       "      <th>Unnamed: 11</th>\n",
       "      <th>Unnamed: 12</th>\n",
       "      <th>Unnamed: 13</th>\n",
       "      <th>Unnamed: 14</th>\n",
       "      <th>Unnamed: 15</th>\n",
       "      <th>Unnamed: 16</th>\n",
       "    </tr>\n",
       "  </thead>\n",
       "  <tbody>\n",
       "    <tr>\n",
       "      <th>0</th>\n",
       "      <td>Source</td>\n",
       "      <td>http://data.worldbank.org/indicator/SP.POP.TOTL</td>\n",
       "      <td>$nan</td>\n",
       "      <td>$nan</td>\n",
       "      <td>$nan</td>\n",
       "      <td>$nan</td>\n",
       "      <td>$nan</td>\n",
       "      <td>$nan</td>\n",
       "      <td>$nan</td>\n",
       "      <td>$nan</td>\n",
       "      <td>$nan</td>\n",
       "      <td>$nan</td>\n",
       "      <td>$nan</td>\n",
       "      <td>$nan</td>\n",
       "      <td>$nan</td>\n",
       "      <td>$nan</td>\n",
       "      <td>$nan</td>\n",
       "    </tr>\n",
       "    <tr>\n",
       "      <th>1</th>\n",
       "      <td>Terms of use</td>\n",
       "      <td>http://data.worldbank.org/summary-terms-of-use</td>\n",
       "      <td>$nan</td>\n",
       "      <td>$nan</td>\n",
       "      <td>$nan</td>\n",
       "      <td>$nan</td>\n",
       "      <td>$nan</td>\n",
       "      <td>$nan</td>\n",
       "      <td>$nan</td>\n",
       "      <td>$nan</td>\n",
       "      <td>$nan</td>\n",
       "      <td>$nan</td>\n",
       "      <td>$nan</td>\n",
       "      <td>$nan</td>\n",
       "      <td>$nan</td>\n",
       "      <td>$nan</td>\n",
       "      <td>$nan</td>\n",
       "    </tr>\n",
       "    <tr>\n",
       "      <th>2</th>\n",
       "      <td>NaN</td>\n",
       "      <td>NaN</td>\n",
       "      <td>$nan</td>\n",
       "      <td>$nan</td>\n",
       "      <td>$nan</td>\n",
       "      <td>$nan</td>\n",
       "      <td>$nan</td>\n",
       "      <td>$nan</td>\n",
       "      <td>$nan</td>\n",
       "      <td>$nan</td>\n",
       "      <td>$nan</td>\n",
       "      <td>$nan</td>\n",
       "      <td>$nan</td>\n",
       "      <td>$nan</td>\n",
       "      <td>$nan</td>\n",
       "      <td>$nan</td>\n",
       "      <td>$nan</td>\n",
       "    </tr>\n",
       "    <tr>\n",
       "      <th>3</th>\n",
       "      <td>Country Name</td>\n",
       "      <td>1999</td>\n",
       "      <td>$2,000</td>\n",
       "      <td>$2,001</td>\n",
       "      <td>$2,002</td>\n",
       "      <td>$2,003</td>\n",
       "      <td>$2,004</td>\n",
       "      <td>$2,005</td>\n",
       "      <td>$2,006</td>\n",
       "      <td>$2,007</td>\n",
       "      <td>$2,008</td>\n",
       "      <td>$2,009</td>\n",
       "      <td>$2,010</td>\n",
       "      <td>$2,011</td>\n",
       "      <td>$2,012</td>\n",
       "      <td>$2,013</td>\n",
       "      <td>$2,014</td>\n",
       "    </tr>\n",
       "    <tr>\n",
       "      <th>4</th>\n",
       "      <td>Canada</td>\n",
       "      <td>30499200</td>\n",
       "      <td>$30,769,700</td>\n",
       "      <td>$31,081,900</td>\n",
       "      <td>$31,362,000</td>\n",
       "      <td>$31,676,000</td>\n",
       "      <td>$31,995,000</td>\n",
       "      <td>$32,312,000</td>\n",
       "      <td>$32,570,505</td>\n",
       "      <td>$32,887,928</td>\n",
       "      <td>$33,245,773</td>\n",
       "      <td>$33,628,571</td>\n",
       "      <td>$34,005,274</td>\n",
       "      <td>$34,342,780</td>\n",
       "      <td>$34,754,312</td>\n",
       "      <td>$35,158,304</td>\n",
       "      <td>$35,540,419</td>\n",
       "    </tr>\n",
       "    <tr>\n",
       "      <th>5</th>\n",
       "      <td>Germany</td>\n",
       "      <td>82100243</td>\n",
       "      <td>$82,211,508</td>\n",
       "      <td>$82,349,925</td>\n",
       "      <td>$82,488,495</td>\n",
       "      <td>$82,534,176</td>\n",
       "      <td>$82,516,260</td>\n",
       "      <td>$82,469,422</td>\n",
       "      <td>$82,376,451</td>\n",
       "      <td>$82,266,372</td>\n",
       "      <td>$82,110,097</td>\n",
       "      <td>$81,902,307</td>\n",
       "      <td>$81,776,930</td>\n",
       "      <td>$81,797,673</td>\n",
       "      <td>$80,425,823</td>\n",
       "      <td>$80,645,605</td>\n",
       "      <td>$80,889,505</td>\n",
       "    </tr>\n",
       "    <tr>\n",
       "      <th>6</th>\n",
       "      <td>France</td>\n",
       "      <td>60496715</td>\n",
       "      <td>$60,912,498</td>\n",
       "      <td>$61,357,431</td>\n",
       "      <td>$61,805,267</td>\n",
       "      <td>$62,244,884</td>\n",
       "      <td>$62,704,897</td>\n",
       "      <td>$63,179,356</td>\n",
       "      <td>$63,621,376</td>\n",
       "      <td>$64,016,229</td>\n",
       "      <td>$64,374,990</td>\n",
       "      <td>$64,707,044</td>\n",
       "      <td>$65,027,512</td>\n",
       "      <td>$65,342,776</td>\n",
       "      <td>$65,639,975</td>\n",
       "      <td>$65,925,498</td>\n",
       "      <td>$66,206,930</td>\n",
       "    </tr>\n",
       "    <tr>\n",
       "      <th>7</th>\n",
       "      <td>Mexico</td>\n",
       "      <td>101266570</td>\n",
       "      <td>$102,808,590</td>\n",
       "      <td>$104,239,563</td>\n",
       "      <td>$105,578,297</td>\n",
       "      <td>$106,888,418</td>\n",
       "      <td>$108,257,822</td>\n",
       "      <td>$109,747,906</td>\n",
       "      <td>$111,382,857</td>\n",
       "      <td>$113,139,374</td>\n",
       "      <td>$114,972,821</td>\n",
       "      <td>$116,815,612</td>\n",
       "      <td>$118,617,542</td>\n",
       "      <td>$120,365,271</td>\n",
       "      <td>$122,070,963</td>\n",
       "      <td>$123,740,109</td>\n",
       "      <td>$125,385,833</td>\n",
       "    </tr>\n",
       "    <tr>\n",
       "      <th>8</th>\n",
       "      <td>USA</td>\n",
       "      <td>279040000</td>\n",
       "      <td>$282,162,411</td>\n",
       "      <td>$284,968,955</td>\n",
       "      <td>$287,625,193</td>\n",
       "      <td>$290,107,933</td>\n",
       "      <td>$292,805,298</td>\n",
       "      <td>$295,516,599</td>\n",
       "      <td>$298,379,912</td>\n",
       "      <td>$301,231,207</td>\n",
       "      <td>$304,093,966</td>\n",
       "      <td>$306,771,529</td>\n",
       "      <td>$309,347,057</td>\n",
       "      <td>$311,721,632</td>\n",
       "      <td>$314,112,078</td>\n",
       "      <td>$316,497,531</td>\n",
       "      <td>$318,857,056</td>\n",
       "    </tr>\n",
       "  </tbody>\n",
       "</table>\n",
       "</div>"
      ],
      "text/plain": [
       "  Total population is based on the de facto definition of population, which counts all residents regardless of legal status or citizenship--except for refugees not permanently settled in the country of asylum, who are generally considered part of the population of their country of origin. The values shown are midyear estimates.  \\\n",
       "0                                             Source                                                                                                                                                                                                                                                                                        \n",
       "1                                       Terms of use                                                                                                                                                                                                                                                                                        \n",
       "2                                                NaN                                                                                                                                                                                                                                                                                        \n",
       "3                                       Country Name                                                                                                                                                                                                                                                                                        \n",
       "4                                             Canada                                                                                                                                                                                                                                                                                        \n",
       "5                                            Germany                                                                                                                                                                                                                                                                                        \n",
       "6                                             France                                                                                                                                                                                                                                                                                        \n",
       "7                                             Mexico                                                                                                                                                                                                                                                                                        \n",
       "8                                                USA                                                                                                                                                                                                                                                                                        \n",
       "\n",
       "                                        Unnamed: 1   Unnamed: 2   Unnamed: 3  \\\n",
       "0  http://data.worldbank.org/indicator/SP.POP.TOTL         $nan         $nan   \n",
       "1   http://data.worldbank.org/summary-terms-of-use         $nan         $nan   \n",
       "2                                              NaN         $nan         $nan   \n",
       "3                                             1999       $2,000       $2,001   \n",
       "4                                         30499200  $30,769,700  $31,081,900   \n",
       "5                                         82100243  $82,211,508  $82,349,925   \n",
       "6                                         60496715  $60,912,498  $61,357,431   \n",
       "7                                        101266570 $102,808,590 $104,239,563   \n",
       "8                                        279040000 $282,162,411 $284,968,955   \n",
       "\n",
       "    Unnamed: 4   Unnamed: 5   Unnamed: 6   Unnamed: 7   Unnamed: 8  \\\n",
       "0         $nan         $nan         $nan         $nan         $nan   \n",
       "1         $nan         $nan         $nan         $nan         $nan   \n",
       "2         $nan         $nan         $nan         $nan         $nan   \n",
       "3       $2,002       $2,003       $2,004       $2,005       $2,006   \n",
       "4  $31,362,000  $31,676,000  $31,995,000  $32,312,000  $32,570,505   \n",
       "5  $82,488,495  $82,534,176  $82,516,260  $82,469,422  $82,376,451   \n",
       "6  $61,805,267  $62,244,884  $62,704,897  $63,179,356  $63,621,376   \n",
       "7 $105,578,297 $106,888,418 $108,257,822 $109,747,906 $111,382,857   \n",
       "8 $287,625,193 $290,107,933 $292,805,298 $295,516,599 $298,379,912   \n",
       "\n",
       "    Unnamed: 9  Unnamed: 10  Unnamed: 11  Unnamed: 12  Unnamed: 13  \\\n",
       "0         $nan         $nan         $nan         $nan         $nan   \n",
       "1         $nan         $nan         $nan         $nan         $nan   \n",
       "2         $nan         $nan         $nan         $nan         $nan   \n",
       "3       $2,007       $2,008       $2,009       $2,010       $2,011   \n",
       "4  $32,887,928  $33,245,773  $33,628,571  $34,005,274  $34,342,780   \n",
       "5  $82,266,372  $82,110,097  $81,902,307  $81,776,930  $81,797,673   \n",
       "6  $64,016,229  $64,374,990  $64,707,044  $65,027,512  $65,342,776   \n",
       "7 $113,139,374 $114,972,821 $116,815,612 $118,617,542 $120,365,271   \n",
       "8 $301,231,207 $304,093,966 $306,771,529 $309,347,057 $311,721,632   \n",
       "\n",
       "   Unnamed: 14  Unnamed: 15  Unnamed: 16  \n",
       "0         $nan         $nan         $nan  \n",
       "1         $nan         $nan         $nan  \n",
       "2         $nan         $nan         $nan  \n",
       "3       $2,012       $2,013       $2,014  \n",
       "4  $34,754,312  $35,158,304  $35,540,419  \n",
       "5  $80,425,823  $80,645,605  $80,889,505  \n",
       "6  $65,639,975  $65,925,498  $66,206,930  \n",
       "7 $122,070,963 $123,740,109 $125,385,833  \n",
       "8 $314,112,078 $316,497,531 $318,857,056  "
      ]
     },
     "execution_count": 45,
     "metadata": {},
     "output_type": "execute_result"
    }
   ],
   "source": [
    "pop = pd.read_excel('Country Population by Year.xlsx', sheet_name='Sheet1')\n",
    "pop"
   ]
  },
  {
   "cell_type": "markdown",
   "metadata": {
    "slideshow": {
     "slide_type": "slide"
    }
   },
   "source": [
    "Descartamos las primeras 4 filas"
   ]
  },
  {
   "cell_type": "code",
   "execution_count": 46,
   "metadata": {
    "slideshow": {
     "slide_type": "fragment"
    }
   },
   "outputs": [
    {
     "data": {
      "text/html": [
       "<div>\n",
       "<style scoped>\n",
       "    .dataframe tbody tr th:only-of-type {\n",
       "        vertical-align: middle;\n",
       "    }\n",
       "\n",
       "    .dataframe tbody tr th {\n",
       "        vertical-align: top;\n",
       "    }\n",
       "\n",
       "    .dataframe thead th {\n",
       "        text-align: right;\n",
       "    }\n",
       "</style>\n",
       "<table border=\"1\" class=\"dataframe\">\n",
       "  <thead>\n",
       "    <tr style=\"text-align: right;\">\n",
       "      <th></th>\n",
       "      <th>Country Name</th>\n",
       "      <th>1999</th>\n",
       "      <th>2000</th>\n",
       "      <th>2001</th>\n",
       "      <th>2002</th>\n",
       "      <th>2003</th>\n",
       "      <th>2004</th>\n",
       "      <th>2005</th>\n",
       "      <th>2006</th>\n",
       "      <th>2007</th>\n",
       "      <th>2008</th>\n",
       "      <th>2009</th>\n",
       "      <th>2010</th>\n",
       "      <th>2011</th>\n",
       "      <th>2012</th>\n",
       "      <th>2013</th>\n",
       "      <th>2014</th>\n",
       "    </tr>\n",
       "  </thead>\n",
       "  <tbody>\n",
       "    <tr>\n",
       "      <th>0</th>\n",
       "      <td>Canada</td>\n",
       "      <td>30499200</td>\n",
       "      <td>30769700</td>\n",
       "      <td>31081900</td>\n",
       "      <td>31362000</td>\n",
       "      <td>31676000</td>\n",
       "      <td>31995000</td>\n",
       "      <td>32312000</td>\n",
       "      <td>32570505</td>\n",
       "      <td>32887928</td>\n",
       "      <td>33245773</td>\n",
       "      <td>33628571</td>\n",
       "      <td>34005274</td>\n",
       "      <td>34342780</td>\n",
       "      <td>34754312</td>\n",
       "      <td>35158304</td>\n",
       "      <td>35540419</td>\n",
       "    </tr>\n",
       "    <tr>\n",
       "      <th>1</th>\n",
       "      <td>Germany</td>\n",
       "      <td>82100243</td>\n",
       "      <td>82211508</td>\n",
       "      <td>82349925</td>\n",
       "      <td>82488495</td>\n",
       "      <td>82534176</td>\n",
       "      <td>82516260</td>\n",
       "      <td>82469422</td>\n",
       "      <td>82376451</td>\n",
       "      <td>82266372</td>\n",
       "      <td>82110097</td>\n",
       "      <td>81902307</td>\n",
       "      <td>81776930</td>\n",
       "      <td>81797673</td>\n",
       "      <td>80425823</td>\n",
       "      <td>80645605</td>\n",
       "      <td>80889505</td>\n",
       "    </tr>\n",
       "    <tr>\n",
       "      <th>2</th>\n",
       "      <td>France</td>\n",
       "      <td>60496715</td>\n",
       "      <td>60912498</td>\n",
       "      <td>61357431</td>\n",
       "      <td>61805267</td>\n",
       "      <td>62244884</td>\n",
       "      <td>62704897</td>\n",
       "      <td>63179356</td>\n",
       "      <td>63621376</td>\n",
       "      <td>64016229</td>\n",
       "      <td>64374990</td>\n",
       "      <td>64707044</td>\n",
       "      <td>65027512</td>\n",
       "      <td>65342776</td>\n",
       "      <td>65639975</td>\n",
       "      <td>65925498</td>\n",
       "      <td>66206930</td>\n",
       "    </tr>\n",
       "    <tr>\n",
       "      <th>3</th>\n",
       "      <td>Mexico</td>\n",
       "      <td>101266570</td>\n",
       "      <td>102808590</td>\n",
       "      <td>104239563</td>\n",
       "      <td>105578297</td>\n",
       "      <td>106888418</td>\n",
       "      <td>108257822</td>\n",
       "      <td>109747906</td>\n",
       "      <td>111382857</td>\n",
       "      <td>113139374</td>\n",
       "      <td>114972821</td>\n",
       "      <td>116815612</td>\n",
       "      <td>118617542</td>\n",
       "      <td>120365271</td>\n",
       "      <td>122070963</td>\n",
       "      <td>123740109</td>\n",
       "      <td>125385833</td>\n",
       "    </tr>\n",
       "    <tr>\n",
       "      <th>4</th>\n",
       "      <td>USA</td>\n",
       "      <td>279040000</td>\n",
       "      <td>282162411</td>\n",
       "      <td>284968955</td>\n",
       "      <td>287625193</td>\n",
       "      <td>290107933</td>\n",
       "      <td>292805298</td>\n",
       "      <td>295516599</td>\n",
       "      <td>298379912</td>\n",
       "      <td>301231207</td>\n",
       "      <td>304093966</td>\n",
       "      <td>306771529</td>\n",
       "      <td>309347057</td>\n",
       "      <td>311721632</td>\n",
       "      <td>314112078</td>\n",
       "      <td>316497531</td>\n",
       "      <td>318857056</td>\n",
       "    </tr>\n",
       "  </tbody>\n",
       "</table>\n",
       "</div>"
      ],
      "text/plain": [
       "  Country Name       1999       2000       2001       2002       2003  \\\n",
       "0       Canada   30499200   30769700   31081900   31362000   31676000   \n",
       "1      Germany   82100243   82211508   82349925   82488495   82534176   \n",
       "2       France   60496715   60912498   61357431   61805267   62244884   \n",
       "3       Mexico  101266570  102808590  104239563  105578297  106888418   \n",
       "4          USA  279040000  282162411  284968955  287625193  290107933   \n",
       "\n",
       "        2004       2005       2006       2007       2008       2009  \\\n",
       "0   31995000   32312000   32570505   32887928   33245773   33628571   \n",
       "1   82516260   82469422   82376451   82266372   82110097   81902307   \n",
       "2   62704897   63179356   63621376   64016229   64374990   64707044   \n",
       "3  108257822  109747906  111382857  113139374  114972821  116815612   \n",
       "4  292805298  295516599  298379912  301231207  304093966  306771529   \n",
       "\n",
       "        2010       2011       2012       2013       2014  \n",
       "0   34005274   34342780   34754312   35158304   35540419  \n",
       "1   81776930   81797673   80425823   80645605   80889505  \n",
       "2   65027512   65342776   65639975   65925498   66206930  \n",
       "3  118617542  120365271  122070963  123740109  125385833  \n",
       "4  309347057  311721632  314112078  316497531  318857056  "
      ]
     },
     "execution_count": 46,
     "metadata": {},
     "output_type": "execute_result"
    }
   ],
   "source": [
    "pop = pd.read_excel('Country Population by Year.xlsx', sheet_name='Sheet1', skiprows=4)\n",
    "pop"
   ]
  },
  {
   "cell_type": "markdown",
   "metadata": {
    "slideshow": {
     "slide_type": "slide"
    }
   },
   "source": [
    "#### Ordenando con 'melt' para que los datos queden en formato 'Tidy'"
   ]
  },
  {
   "cell_type": "markdown",
   "metadata": {
    "slideshow": {
     "slide_type": "fragment"
    }
   },
   "source": [
    "* Queremos que la primer columna sea el país\n",
    "* Que la segunda sean los años\n",
    "* Y la tercera tenga la población por año y país"
   ]
  },
  {
   "cell_type": "code",
   "execution_count": 47,
   "metadata": {
    "slideshow": {
     "slide_type": "fragment"
    }
   },
   "outputs": [
    {
     "data": {
      "text/html": [
       "<div>\n",
       "<style scoped>\n",
       "    .dataframe tbody tr th:only-of-type {\n",
       "        vertical-align: middle;\n",
       "    }\n",
       "\n",
       "    .dataframe tbody tr th {\n",
       "        vertical-align: top;\n",
       "    }\n",
       "\n",
       "    .dataframe thead th {\n",
       "        text-align: right;\n",
       "    }\n",
       "</style>\n",
       "<table border=\"1\" class=\"dataframe\">\n",
       "  <thead>\n",
       "    <tr style=\"text-align: right;\">\n",
       "      <th></th>\n",
       "      <th>Country Name</th>\n",
       "      <th>variable</th>\n",
       "      <th>value</th>\n",
       "    </tr>\n",
       "  </thead>\n",
       "  <tbody>\n",
       "    <tr>\n",
       "      <th>0</th>\n",
       "      <td>Canada</td>\n",
       "      <td>1999</td>\n",
       "      <td>30499200</td>\n",
       "    </tr>\n",
       "    <tr>\n",
       "      <th>1</th>\n",
       "      <td>Germany</td>\n",
       "      <td>1999</td>\n",
       "      <td>82100243</td>\n",
       "    </tr>\n",
       "    <tr>\n",
       "      <th>2</th>\n",
       "      <td>France</td>\n",
       "      <td>1999</td>\n",
       "      <td>60496715</td>\n",
       "    </tr>\n",
       "    <tr>\n",
       "      <th>3</th>\n",
       "      <td>Mexico</td>\n",
       "      <td>1999</td>\n",
       "      <td>101266570</td>\n",
       "    </tr>\n",
       "    <tr>\n",
       "      <th>4</th>\n",
       "      <td>USA</td>\n",
       "      <td>1999</td>\n",
       "      <td>279040000</td>\n",
       "    </tr>\n",
       "    <tr>\n",
       "      <th>5</th>\n",
       "      <td>Canada</td>\n",
       "      <td>2000</td>\n",
       "      <td>30769700</td>\n",
       "    </tr>\n",
       "    <tr>\n",
       "      <th>6</th>\n",
       "      <td>Germany</td>\n",
       "      <td>2000</td>\n",
       "      <td>82211508</td>\n",
       "    </tr>\n",
       "    <tr>\n",
       "      <th>7</th>\n",
       "      <td>France</td>\n",
       "      <td>2000</td>\n",
       "      <td>60912498</td>\n",
       "    </tr>\n",
       "    <tr>\n",
       "      <th>8</th>\n",
       "      <td>Mexico</td>\n",
       "      <td>2000</td>\n",
       "      <td>102808590</td>\n",
       "    </tr>\n",
       "    <tr>\n",
       "      <th>9</th>\n",
       "      <td>USA</td>\n",
       "      <td>2000</td>\n",
       "      <td>282162411</td>\n",
       "    </tr>\n",
       "  </tbody>\n",
       "</table>\n",
       "</div>"
      ],
      "text/plain": [
       "  Country Name variable      value\n",
       "0       Canada     1999   30499200\n",
       "1      Germany     1999   82100243\n",
       "2       France     1999   60496715\n",
       "3       Mexico     1999  101266570\n",
       "4          USA     1999  279040000\n",
       "5       Canada     2000   30769700\n",
       "6      Germany     2000   82211508\n",
       "7       France     2000   60912498\n",
       "8       Mexico     2000  102808590\n",
       "9          USA     2000  282162411"
      ]
     },
     "execution_count": 47,
     "metadata": {},
     "output_type": "execute_result"
    }
   ],
   "source": [
    "pop_pivot = pd.melt(pop, id_vars=['Country Name'])\n",
    "pop_pivot.head(10)"
   ]
  },
  {
   "cell_type": "code",
   "execution_count": 48,
   "metadata": {
    "slideshow": {
     "slide_type": "slide"
    }
   },
   "outputs": [
    {
     "data": {
      "text/html": [
       "<div>\n",
       "<style scoped>\n",
       "    .dataframe tbody tr th:only-of-type {\n",
       "        vertical-align: middle;\n",
       "    }\n",
       "\n",
       "    .dataframe tbody tr th {\n",
       "        vertical-align: top;\n",
       "    }\n",
       "\n",
       "    .dataframe thead th {\n",
       "        text-align: right;\n",
       "    }\n",
       "</style>\n",
       "<table border=\"1\" class=\"dataframe\">\n",
       "  <thead>\n",
       "    <tr style=\"text-align: right;\">\n",
       "      <th></th>\n",
       "      <th>Country Name</th>\n",
       "      <th>Year</th>\n",
       "      <th>Population</th>\n",
       "    </tr>\n",
       "  </thead>\n",
       "  <tbody>\n",
       "    <tr>\n",
       "      <th>0</th>\n",
       "      <td>Canada</td>\n",
       "      <td>1999</td>\n",
       "      <td>30499200</td>\n",
       "    </tr>\n",
       "    <tr>\n",
       "      <th>1</th>\n",
       "      <td>Germany</td>\n",
       "      <td>1999</td>\n",
       "      <td>82100243</td>\n",
       "    </tr>\n",
       "    <tr>\n",
       "      <th>2</th>\n",
       "      <td>France</td>\n",
       "      <td>1999</td>\n",
       "      <td>60496715</td>\n",
       "    </tr>\n",
       "    <tr>\n",
       "      <th>3</th>\n",
       "      <td>Mexico</td>\n",
       "      <td>1999</td>\n",
       "      <td>101266570</td>\n",
       "    </tr>\n",
       "    <tr>\n",
       "      <th>4</th>\n",
       "      <td>USA</td>\n",
       "      <td>1999</td>\n",
       "      <td>279040000</td>\n",
       "    </tr>\n",
       "    <tr>\n",
       "      <th>5</th>\n",
       "      <td>Canada</td>\n",
       "      <td>2000</td>\n",
       "      <td>30769700</td>\n",
       "    </tr>\n",
       "    <tr>\n",
       "      <th>6</th>\n",
       "      <td>Germany</td>\n",
       "      <td>2000</td>\n",
       "      <td>82211508</td>\n",
       "    </tr>\n",
       "    <tr>\n",
       "      <th>7</th>\n",
       "      <td>France</td>\n",
       "      <td>2000</td>\n",
       "      <td>60912498</td>\n",
       "    </tr>\n",
       "    <tr>\n",
       "      <th>8</th>\n",
       "      <td>Mexico</td>\n",
       "      <td>2000</td>\n",
       "      <td>102808590</td>\n",
       "    </tr>\n",
       "    <tr>\n",
       "      <th>9</th>\n",
       "      <td>USA</td>\n",
       "      <td>2000</td>\n",
       "      <td>282162411</td>\n",
       "    </tr>\n",
       "    <tr>\n",
       "      <th>10</th>\n",
       "      <td>Canada</td>\n",
       "      <td>2001</td>\n",
       "      <td>31081900</td>\n",
       "    </tr>\n",
       "    <tr>\n",
       "      <th>11</th>\n",
       "      <td>Germany</td>\n",
       "      <td>2001</td>\n",
       "      <td>82349925</td>\n",
       "    </tr>\n",
       "    <tr>\n",
       "      <th>12</th>\n",
       "      <td>France</td>\n",
       "      <td>2001</td>\n",
       "      <td>61357431</td>\n",
       "    </tr>\n",
       "    <tr>\n",
       "      <th>13</th>\n",
       "      <td>Mexico</td>\n",
       "      <td>2001</td>\n",
       "      <td>104239563</td>\n",
       "    </tr>\n",
       "    <tr>\n",
       "      <th>14</th>\n",
       "      <td>USA</td>\n",
       "      <td>2001</td>\n",
       "      <td>284968955</td>\n",
       "    </tr>\n",
       "    <tr>\n",
       "      <th>15</th>\n",
       "      <td>Canada</td>\n",
       "      <td>2002</td>\n",
       "      <td>31362000</td>\n",
       "    </tr>\n",
       "    <tr>\n",
       "      <th>16</th>\n",
       "      <td>Germany</td>\n",
       "      <td>2002</td>\n",
       "      <td>82488495</td>\n",
       "    </tr>\n",
       "    <tr>\n",
       "      <th>17</th>\n",
       "      <td>France</td>\n",
       "      <td>2002</td>\n",
       "      <td>61805267</td>\n",
       "    </tr>\n",
       "    <tr>\n",
       "      <th>18</th>\n",
       "      <td>Mexico</td>\n",
       "      <td>2002</td>\n",
       "      <td>105578297</td>\n",
       "    </tr>\n",
       "    <tr>\n",
       "      <th>19</th>\n",
       "      <td>USA</td>\n",
       "      <td>2002</td>\n",
       "      <td>287625193</td>\n",
       "    </tr>\n",
       "  </tbody>\n",
       "</table>\n",
       "</div>"
      ],
      "text/plain": [
       "   Country Name  Year  Population\n",
       "0        Canada  1999    30499200\n",
       "1       Germany  1999    82100243\n",
       "2        France  1999    60496715\n",
       "3        Mexico  1999   101266570\n",
       "4           USA  1999   279040000\n",
       "5        Canada  2000    30769700\n",
       "6       Germany  2000    82211508\n",
       "7        France  2000    60912498\n",
       "8        Mexico  2000   102808590\n",
       "9           USA  2000   282162411\n",
       "10       Canada  2001    31081900\n",
       "11      Germany  2001    82349925\n",
       "12       France  2001    61357431\n",
       "13       Mexico  2001   104239563\n",
       "14          USA  2001   284968955\n",
       "15       Canada  2002    31362000\n",
       "16      Germany  2002    82488495\n",
       "17       France  2002    61805267\n",
       "18       Mexico  2002   105578297\n",
       "19          USA  2002   287625193"
      ]
     },
     "execution_count": 48,
     "metadata": {},
     "output_type": "execute_result"
    }
   ],
   "source": [
    "pop_tidy = pd.melt(pop, \n",
    "                   id_vars=['Country Name'], \n",
    "                   var_name='Year', \n",
    "                   value_name='Population')\n",
    "pop_tidy.head(20)"
   ]
  },
  {
   "cell_type": "code",
   "execution_count": 49,
   "metadata": {
    "slideshow": {
     "slide_type": "slide"
    }
   },
   "outputs": [
    {
     "name": "stdout",
     "output_type": "stream",
     "text": [
      "<class 'pandas.core.frame.DataFrame'>\n",
      "RangeIndex: 80 entries, 0 to 79\n",
      "Data columns (total 3 columns):\n",
      "Country Name    80 non-null object\n",
      "Year            80 non-null object\n",
      "Population      80 non-null int64\n",
      "dtypes: int64(1), object(2)\n",
      "memory usage: 2.0+ KB\n"
     ]
    }
   ],
   "source": [
    "pop_tidy.info()"
   ]
  },
  {
   "cell_type": "markdown",
   "metadata": {
    "slideshow": {
     "slide_type": "slide"
    }
   },
   "source": [
    "Convertimos **year** a numérico y creamos **Pop(M)**, para poder graficar la población en millones"
   ]
  },
  {
   "cell_type": "code",
   "execution_count": 50,
   "metadata": {
    "slideshow": {
     "slide_type": "fragment"
    }
   },
   "outputs": [],
   "source": [
    "pd.options.display.float_format = '{:,.0f}'.format\n",
    "pop_tidy['Year'] = pop_tidy['Year'].astype('int64')\n",
    "pop_tidy['Pop(M)'] = pop_tidy['Population'] /1000000"
   ]
  },
  {
   "cell_type": "code",
   "execution_count": 51,
   "metadata": {
    "slideshow": {
     "slide_type": "fragment"
    }
   },
   "outputs": [
    {
     "data": {
      "text/html": [
       "<div>\n",
       "<style scoped>\n",
       "    .dataframe tbody tr th:only-of-type {\n",
       "        vertical-align: middle;\n",
       "    }\n",
       "\n",
       "    .dataframe tbody tr th {\n",
       "        vertical-align: top;\n",
       "    }\n",
       "\n",
       "    .dataframe thead th {\n",
       "        text-align: right;\n",
       "    }\n",
       "</style>\n",
       "<table border=\"1\" class=\"dataframe\">\n",
       "  <thead>\n",
       "    <tr style=\"text-align: right;\">\n",
       "      <th></th>\n",
       "      <th>Country Name</th>\n",
       "      <th>Year</th>\n",
       "      <th>Population</th>\n",
       "      <th>Pop(M)</th>\n",
       "    </tr>\n",
       "  </thead>\n",
       "  <tbody>\n",
       "    <tr>\n",
       "      <th>0</th>\n",
       "      <td>Canada</td>\n",
       "      <td>1999</td>\n",
       "      <td>30499200</td>\n",
       "      <td>30</td>\n",
       "    </tr>\n",
       "    <tr>\n",
       "      <th>1</th>\n",
       "      <td>Germany</td>\n",
       "      <td>1999</td>\n",
       "      <td>82100243</td>\n",
       "      <td>82</td>\n",
       "    </tr>\n",
       "    <tr>\n",
       "      <th>2</th>\n",
       "      <td>France</td>\n",
       "      <td>1999</td>\n",
       "      <td>60496715</td>\n",
       "      <td>60</td>\n",
       "    </tr>\n",
       "    <tr>\n",
       "      <th>3</th>\n",
       "      <td>Mexico</td>\n",
       "      <td>1999</td>\n",
       "      <td>101266570</td>\n",
       "      <td>101</td>\n",
       "    </tr>\n",
       "    <tr>\n",
       "      <th>4</th>\n",
       "      <td>USA</td>\n",
       "      <td>1999</td>\n",
       "      <td>279040000</td>\n",
       "      <td>279</td>\n",
       "    </tr>\n",
       "  </tbody>\n",
       "</table>\n",
       "</div>"
      ],
      "text/plain": [
       "  Country Name  Year  Population  Pop(M)\n",
       "0       Canada  1999    30499200      30\n",
       "1      Germany  1999    82100243      82\n",
       "2       France  1999    60496715      60\n",
       "3       Mexico  1999   101266570     101\n",
       "4          USA  1999   279040000     279"
      ]
     },
     "execution_count": 51,
     "metadata": {},
     "output_type": "execute_result"
    }
   ],
   "source": [
    "pop_tidy.head()"
   ]
  },
  {
   "cell_type": "markdown",
   "metadata": {
    "slideshow": {
     "slide_type": "slide"
    }
   },
   "source": [
    "Por último creamos 2 gráficos muy simples"
   ]
  },
  {
   "cell_type": "code",
   "execution_count": 52,
   "metadata": {
    "scrolled": true,
    "slideshow": {
     "slide_type": "fragment"
    }
   },
   "outputs": [],
   "source": [
    "import matplotlib.pyplot as plt\n",
    "import seaborn as sns\n",
    "sns.set()"
   ]
  },
  {
   "cell_type": "code",
   "execution_count": 53,
   "metadata": {
    "slideshow": {
     "slide_type": "slide"
    }
   },
   "outputs": [
    {
     "data": {
      "text/plain": [
       "<matplotlib.axes._subplots.AxesSubplot at 0x1699e549a20>"
      ]
     },
     "execution_count": 53,
     "metadata": {},
     "output_type": "execute_result"
    },
    {
     "data": {
      "image/png": "[encoded data removed]",
      "text/plain": [
       "<Figure size 1152x432 with 1 Axes>"
      ]
     },
     "metadata": {},
     "output_type": "display_data"
    }
   ],
   "source": [
    "sns.set_style(\"darkgrid\")\n",
    "plt.figure(figsize=(16, 6))\n",
    "\n",
    "ax = sns.lineplot(x=\"Year\", y=\"Pop(M)\", \n",
    "                  hue=\"Country Name\",\n",
    "                  data=pop_tidy)\n",
    "ax"
   ]
  },
  {
   "cell_type": "code",
   "execution_count": 54,
   "metadata": {
    "slideshow": {
     "slide_type": "slide"
    }
   },
   "outputs": [
    {
     "data": {
      "text/html": [
       "<div>\n",
       "<style scoped>\n",
       "    .dataframe tbody tr th:only-of-type {\n",
       "        vertical-align: middle;\n",
       "    }\n",
       "\n",
       "    .dataframe tbody tr th {\n",
       "        vertical-align: top;\n",
       "    }\n",
       "\n",
       "    .dataframe thead th {\n",
       "        text-align: right;\n",
       "    }\n",
       "</style>\n",
       "<table border=\"1\" class=\"dataframe\">\n",
       "  <thead>\n",
       "    <tr style=\"text-align: right;\">\n",
       "      <th></th>\n",
       "      <th>Country Name</th>\n",
       "      <th>Year</th>\n",
       "      <th>Population</th>\n",
       "      <th>Pop(M)</th>\n",
       "    </tr>\n",
       "  </thead>\n",
       "  <tbody>\n",
       "    <tr>\n",
       "      <th>55</th>\n",
       "      <td>Canada</td>\n",
       "      <td>2010</td>\n",
       "      <td>34005274</td>\n",
       "      <td>34</td>\n",
       "    </tr>\n",
       "    <tr>\n",
       "      <th>56</th>\n",
       "      <td>Germany</td>\n",
       "      <td>2010</td>\n",
       "      <td>81776930</td>\n",
       "      <td>82</td>\n",
       "    </tr>\n",
       "    <tr>\n",
       "      <th>57</th>\n",
       "      <td>France</td>\n",
       "      <td>2010</td>\n",
       "      <td>65027512</td>\n",
       "      <td>65</td>\n",
       "    </tr>\n",
       "    <tr>\n",
       "      <th>58</th>\n",
       "      <td>Mexico</td>\n",
       "      <td>2010</td>\n",
       "      <td>118617542</td>\n",
       "      <td>119</td>\n",
       "    </tr>\n",
       "    <tr>\n",
       "      <th>59</th>\n",
       "      <td>USA</td>\n",
       "      <td>2010</td>\n",
       "      <td>309347057</td>\n",
       "      <td>309</td>\n",
       "    </tr>\n",
       "    <tr>\n",
       "      <th>60</th>\n",
       "      <td>Canada</td>\n",
       "      <td>2011</td>\n",
       "      <td>34342780</td>\n",
       "      <td>34</td>\n",
       "    </tr>\n",
       "    <tr>\n",
       "      <th>61</th>\n",
       "      <td>Germany</td>\n",
       "      <td>2011</td>\n",
       "      <td>81797673</td>\n",
       "      <td>82</td>\n",
       "    </tr>\n",
       "    <tr>\n",
       "      <th>62</th>\n",
       "      <td>France</td>\n",
       "      <td>2011</td>\n",
       "      <td>65342776</td>\n",
       "      <td>65</td>\n",
       "    </tr>\n",
       "    <tr>\n",
       "      <th>63</th>\n",
       "      <td>Mexico</td>\n",
       "      <td>2011</td>\n",
       "      <td>120365271</td>\n",
       "      <td>120</td>\n",
       "    </tr>\n",
       "    <tr>\n",
       "      <th>64</th>\n",
       "      <td>USA</td>\n",
       "      <td>2011</td>\n",
       "      <td>311721632</td>\n",
       "      <td>312</td>\n",
       "    </tr>\n",
       "    <tr>\n",
       "      <th>65</th>\n",
       "      <td>Canada</td>\n",
       "      <td>2012</td>\n",
       "      <td>34754312</td>\n",
       "      <td>35</td>\n",
       "    </tr>\n",
       "    <tr>\n",
       "      <th>66</th>\n",
       "      <td>Germany</td>\n",
       "      <td>2012</td>\n",
       "      <td>80425823</td>\n",
       "      <td>80</td>\n",
       "    </tr>\n",
       "    <tr>\n",
       "      <th>67</th>\n",
       "      <td>France</td>\n",
       "      <td>2012</td>\n",
       "      <td>65639975</td>\n",
       "      <td>66</td>\n",
       "    </tr>\n",
       "    <tr>\n",
       "      <th>68</th>\n",
       "      <td>Mexico</td>\n",
       "      <td>2012</td>\n",
       "      <td>122070963</td>\n",
       "      <td>122</td>\n",
       "    </tr>\n",
       "    <tr>\n",
       "      <th>69</th>\n",
       "      <td>USA</td>\n",
       "      <td>2012</td>\n",
       "      <td>314112078</td>\n",
       "      <td>314</td>\n",
       "    </tr>\n",
       "    <tr>\n",
       "      <th>70</th>\n",
       "      <td>Canada</td>\n",
       "      <td>2013</td>\n",
       "      <td>35158304</td>\n",
       "      <td>35</td>\n",
       "    </tr>\n",
       "    <tr>\n",
       "      <th>71</th>\n",
       "      <td>Germany</td>\n",
       "      <td>2013</td>\n",
       "      <td>80645605</td>\n",
       "      <td>81</td>\n",
       "    </tr>\n",
       "    <tr>\n",
       "      <th>72</th>\n",
       "      <td>France</td>\n",
       "      <td>2013</td>\n",
       "      <td>65925498</td>\n",
       "      <td>66</td>\n",
       "    </tr>\n",
       "    <tr>\n",
       "      <th>73</th>\n",
       "      <td>Mexico</td>\n",
       "      <td>2013</td>\n",
       "      <td>123740109</td>\n",
       "      <td>124</td>\n",
       "    </tr>\n",
       "    <tr>\n",
       "      <th>74</th>\n",
       "      <td>USA</td>\n",
       "      <td>2013</td>\n",
       "      <td>316497531</td>\n",
       "      <td>316</td>\n",
       "    </tr>\n",
       "    <tr>\n",
       "      <th>75</th>\n",
       "      <td>Canada</td>\n",
       "      <td>2014</td>\n",
       "      <td>35540419</td>\n",
       "      <td>36</td>\n",
       "    </tr>\n",
       "    <tr>\n",
       "      <th>76</th>\n",
       "      <td>Germany</td>\n",
       "      <td>2014</td>\n",
       "      <td>80889505</td>\n",
       "      <td>81</td>\n",
       "    </tr>\n",
       "    <tr>\n",
       "      <th>77</th>\n",
       "      <td>France</td>\n",
       "      <td>2014</td>\n",
       "      <td>66206930</td>\n",
       "      <td>66</td>\n",
       "    </tr>\n",
       "    <tr>\n",
       "      <th>78</th>\n",
       "      <td>Mexico</td>\n",
       "      <td>2014</td>\n",
       "      <td>125385833</td>\n",
       "      <td>125</td>\n",
       "    </tr>\n",
       "    <tr>\n",
       "      <th>79</th>\n",
       "      <td>USA</td>\n",
       "      <td>2014</td>\n",
       "      <td>318857056</td>\n",
       "      <td>319</td>\n",
       "    </tr>\n",
       "  </tbody>\n",
       "</table>\n",
       "</div>"
      ],
      "text/plain": [
       "   Country Name  Year  Population  Pop(M)\n",
       "55       Canada  2010    34005274      34\n",
       "56      Germany  2010    81776930      82\n",
       "57       France  2010    65027512      65\n",
       "58       Mexico  2010   118617542     119\n",
       "59          USA  2010   309347057     309\n",
       "60       Canada  2011    34342780      34\n",
       "61      Germany  2011    81797673      82\n",
       "62       France  2011    65342776      65\n",
       "63       Mexico  2011   120365271     120\n",
       "64          USA  2011   311721632     312\n",
       "65       Canada  2012    34754312      35\n",
       "66      Germany  2012    80425823      80\n",
       "67       France  2012    65639975      66\n",
       "68       Mexico  2012   122070963     122\n",
       "69          USA  2012   314112078     314\n",
       "70       Canada  2013    35158304      35\n",
       "71      Germany  2013    80645605      81\n",
       "72       France  2013    65925498      66\n",
       "73       Mexico  2013   123740109     124\n",
       "74          USA  2013   316497531     316\n",
       "75       Canada  2014    35540419      36\n",
       "76      Germany  2014    80889505      81\n",
       "77       France  2014    66206930      66\n",
       "78       Mexico  2014   125385833     125\n",
       "79          USA  2014   318857056     319"
      ]
     },
     "execution_count": 54,
     "metadata": {},
     "output_type": "execute_result"
    }
   ],
   "source": [
    "pop_tidy_new = pop_tidy[pop_tidy['Year']>=2010]\n",
    "pop_tidy_new"
   ]
  },
  {
   "cell_type": "code",
   "execution_count": 55,
   "metadata": {
    "scrolled": true,
    "slideshow": {
     "slide_type": "slide"
    }
   },
   "outputs": [
    {
     "data": {
      "image/png": "[encoded data removed]",
      "text/plain": [
       "<Figure size 1080x216 with 5 Axes>"
      ]
     },
     "metadata": {},
     "output_type": "display_data"
    }
   ],
   "source": [
    "g = sns.FacetGrid(pop_tidy_new, col=\"Country Name\")\n",
    "g = g.map(plt.plot, \"Year\", \"Pop(M)\")"
   ]
  },
  {
   "cell_type": "markdown",
   "metadata": {
    "slideshow": {
     "slide_type": "slide"
    }
   },
   "source": [
    "Pueden bajar el código y los datasets completos en mi GitHub:\n",
    "\n",
    "https://github.com/fsgp/PyConAr-2019"
   ]
  },
  {
   "cell_type": "markdown",
   "metadata": {
    "slideshow": {
     "slide_type": "slide"
    }
   },
   "source": [
    "# Gracias!!!"
   ]
  }
 ],
 "metadata": {
  "celltoolbar": "Slideshow",
  "kernelspec": {
   "display_name": "Python 3",
   "language": "python",
   "name": "python3"
  },
  "language_info": {
   "codemirror_mode": {
    "name": "ipython",
    "version": 3
   },
   "file_extension": ".py",
   "mimetype": "text/x-python",
   "name": "python",
   "nbconvert_exporter": "python",
   "pygments_lexer": "ipython3",
   "version": "3.6.8"
  },
  "toc": {
   "base_numbering": 1,
   "nav_menu": {},
   "number_sections": false,
   "sideBar": true,
   "skip_h1_title": false,
   "title_cell": "Table of Contents",
   "title_sidebar": "Contents",
   "toc_cell": false,
   "toc_position": {},
   "toc_section_display": true,
   "toc_window_display": false
  },
  "varInspector": {
   "cols": {
    "lenName": 16,
    "lenType": 16,
    "lenVar": 40
   },
   "kernels_config": {
    "python": {
     "delete_cmd_postfix": "",
     "delete_cmd_prefix": "del ",
     "library": "var_list.py",
     "varRefreshCmd": "print(var_dic_list())"
    },
    "r": {
     "delete_cmd_postfix": ") ",
     "delete_cmd_prefix": "rm(",
     "library": "var_list.r",
     "varRefreshCmd": "cat(var_dic_list()) "
    }
   },
   "types_to_exclude": [
    "module",
    "function",
    "builtin_function_or_method",
    "instance",
    "_Feature"
   ],
   "window_display": false
  }
 },
 "nbformat": 4,
 "nbformat_minor": 2
}
